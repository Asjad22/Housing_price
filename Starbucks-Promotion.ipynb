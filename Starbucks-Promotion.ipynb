{
 "cells": [
  {
   "cell_type": "markdown",
   "metadata": {},
   "source": [
    "### Introduction: \n",
    "\n",
    "In this project we will analyse simulated data provided by Starbucks which mimics customer behavior in relation to promotion offers on the Starbucks rewards mobile app."
   ]
  },
  {
   "cell_type": "code",
   "execution_count": 1,
   "metadata": {},
   "outputs": [],
   "source": [
    "# import libraries\n",
    "import pandas as pd \n",
    "pd.set_option(\"display.max_columns\", None)\n",
    "import numpy as np\n",
    "from scipy import stats\n",
    "import json\n",
    "import datetime\n",
    "import joblib\n",
    "\n",
    "%matplotlib inline\n",
    "import matplotlib.pyplot as plt\n",
    "import seaborn as sns\n",
    "\n",
    "from sklearn.model_selection import train_test_split, GridSearchCV, StratifiedKFold\n",
    "from sklearn.preprocessing import MinMaxScaler\n",
    "from sklearn.naive_bayes import GaussianNB\n",
    "from sklearn.svm import SVC\n",
    "from sklearn.ensemble import RandomForestClassifier\n",
    "from sklearn.tree import DecisionTreeClassifier\n",
    "from sklearn.neighbors import KNeighborsClassifier\n",
    "from sklearn.linear_model import LogisticRegression\n",
    "from sklearn.metrics import accuracy_score, f1_score, recall_score, precision_score, classification_report, confusion_matrix\n",
    "\n",
    "# setup warnings\n",
    "import warnings\n",
    "warnings.filterwarnings(\"ignore\")"
   ]
  },
  {
   "cell_type": "code",
   "execution_count": 2,
   "metadata": {},
   "outputs": [
    {
     "data": {
      "text/plain": [
       "(10, 6)"
      ]
     },
     "metadata": {},
     "output_type": "display_data"
    },
    {
     "data": {
      "text/plain": [
       "(17000, 5)"
      ]
     },
     "metadata": {},
     "output_type": "display_data"
    },
    {
     "data": {
      "text/plain": [
       "(306534, 4)"
      ]
     },
     "metadata": {},
     "output_type": "display_data"
    },
    {
     "data": {
      "text/html": [
       "<div>\n",
       "<style scoped>\n",
       "    .dataframe tbody tr th:only-of-type {\n",
       "        vertical-align: middle;\n",
       "    }\n",
       "\n",
       "    .dataframe tbody tr th {\n",
       "        vertical-align: top;\n",
       "    }\n",
       "\n",
       "    .dataframe thead th {\n",
       "        text-align: right;\n",
       "    }\n",
       "</style>\n",
       "<table border=\"1\" class=\"dataframe\">\n",
       "  <thead>\n",
       "    <tr style=\"text-align: right;\">\n",
       "      <th></th>\n",
       "      <th>reward</th>\n",
       "      <th>channels</th>\n",
       "      <th>difficulty</th>\n",
       "      <th>duration</th>\n",
       "      <th>offer_type</th>\n",
       "      <th>id</th>\n",
       "    </tr>\n",
       "  </thead>\n",
       "  <tbody>\n",
       "    <tr>\n",
       "      <th>0</th>\n",
       "      <td>10</td>\n",
       "      <td>[email, mobile, social]</td>\n",
       "      <td>10</td>\n",
       "      <td>7</td>\n",
       "      <td>bogo</td>\n",
       "      <td>ae264e3637204a6fb9bb56bc8210ddfd</td>\n",
       "    </tr>\n",
       "  </tbody>\n",
       "</table>\n",
       "</div>"
      ],
      "text/plain": [
       "   reward                 channels  difficulty  duration offer_type  \\\n",
       "0      10  [email, mobile, social]          10         7       bogo   \n",
       "\n",
       "                                 id  \n",
       "0  ae264e3637204a6fb9bb56bc8210ddfd  "
      ]
     },
     "metadata": {},
     "output_type": "display_data"
    },
    {
     "data": {
      "text/html": [
       "<div>\n",
       "<style scoped>\n",
       "    .dataframe tbody tr th:only-of-type {\n",
       "        vertical-align: middle;\n",
       "    }\n",
       "\n",
       "    .dataframe tbody tr th {\n",
       "        vertical-align: top;\n",
       "    }\n",
       "\n",
       "    .dataframe thead th {\n",
       "        text-align: right;\n",
       "    }\n",
       "</style>\n",
       "<table border=\"1\" class=\"dataframe\">\n",
       "  <thead>\n",
       "    <tr style=\"text-align: right;\">\n",
       "      <th></th>\n",
       "      <th>gender</th>\n",
       "      <th>age</th>\n",
       "      <th>id</th>\n",
       "      <th>became_member_on</th>\n",
       "      <th>income</th>\n",
       "    </tr>\n",
       "  </thead>\n",
       "  <tbody>\n",
       "    <tr>\n",
       "      <th>0</th>\n",
       "      <td>None</td>\n",
       "      <td>118</td>\n",
       "      <td>68be06ca386d4c31939f3a4f0e3dd783</td>\n",
       "      <td>20170212</td>\n",
       "      <td>NaN</td>\n",
       "    </tr>\n",
       "  </tbody>\n",
       "</table>\n",
       "</div>"
      ],
      "text/plain": [
       "  gender  age                                id  became_member_on  income\n",
       "0   None  118  68be06ca386d4c31939f3a4f0e3dd783          20170212     NaN"
      ]
     },
     "metadata": {},
     "output_type": "display_data"
    },
    {
     "data": {
      "text/html": [
       "<div>\n",
       "<style scoped>\n",
       "    .dataframe tbody tr th:only-of-type {\n",
       "        vertical-align: middle;\n",
       "    }\n",
       "\n",
       "    .dataframe tbody tr th {\n",
       "        vertical-align: top;\n",
       "    }\n",
       "\n",
       "    .dataframe thead th {\n",
       "        text-align: right;\n",
       "    }\n",
       "</style>\n",
       "<table border=\"1\" class=\"dataframe\">\n",
       "  <thead>\n",
       "    <tr style=\"text-align: right;\">\n",
       "      <th></th>\n",
       "      <th>person</th>\n",
       "      <th>event</th>\n",
       "      <th>value</th>\n",
       "      <th>time</th>\n",
       "    </tr>\n",
       "  </thead>\n",
       "  <tbody>\n",
       "    <tr>\n",
       "      <th>0</th>\n",
       "      <td>78afa995795e4d85b5d9ceeca43f5fef</td>\n",
       "      <td>offer received</td>\n",
       "      <td>{'offer id': '9b98b8c7a33c4b65b9aebfe6a799e6d9'}</td>\n",
       "      <td>0</td>\n",
       "    </tr>\n",
       "  </tbody>\n",
       "</table>\n",
       "</div>"
      ],
      "text/plain": [
       "                             person           event  \\\n",
       "0  78afa995795e4d85b5d9ceeca43f5fef  offer received   \n",
       "\n",
       "                                              value  time  \n",
       "0  {'offer id': '9b98b8c7a33c4b65b9aebfe6a799e6d9'}     0  "
      ]
     },
     "metadata": {},
     "output_type": "display_data"
    }
   ],
   "source": [
    "# Load Data\n",
    "\n",
    "### read in json files\n",
    "portfolio = pd.read_json(\"data/portfolio.json\", orient=\"records\", lines=True)\n",
    "profile = pd.read_json(\"data/profile.json\", orient=\"records\", lines=True)\n",
    "transcript = pd.read_json(\"data/transcript.json\", orient=\"records\", lines=True)\n",
    "\n",
    "### display shape of each data frame\n",
    "display(portfolio.shape, profile.shape, transcript.shape)\n",
    "\n",
    "### display first row of each data frame\n",
    "display(portfolio.head(1), profile.head(1), transcript.head(1))"
   ]
  },
  {
   "cell_type": "markdown",
   "metadata": {},
   "source": [
    "#### portfolio"
   ]
  },
  {
   "cell_type": "code",
   "execution_count": 3,
   "metadata": {
    "scrolled": true
   },
   "outputs": [
    {
     "name": "stdout",
     "output_type": "stream",
     "text": [
      "<class 'pandas.core.frame.DataFrame'>\n",
      "RangeIndex: 10 entries, 0 to 9\n",
      "Data columns (total 6 columns):\n",
      " #   Column      Non-Null Count  Dtype \n",
      "---  ------      --------------  ----- \n",
      " 0   reward      10 non-null     int64 \n",
      " 1   channels    10 non-null     object\n",
      " 2   difficulty  10 non-null     int64 \n",
      " 3   duration    10 non-null     int64 \n",
      " 4   offer_type  10 non-null     object\n",
      " 5   id          10 non-null     object\n",
      "dtypes: int64(3), object(3)\n",
      "memory usage: 608.0+ bytes\n"
     ]
    },
    {
     "data": {
      "text/plain": [
       "None"
      ]
     },
     "metadata": {},
     "output_type": "display_data"
    }
   ],
   "source": [
    "## Format and Explore data\n",
    "\n",
    "### display column info of data set\n",
    "display(portfolio.info())"
   ]
  },
  {
   "cell_type": "code",
   "execution_count": 4,
   "metadata": {},
   "outputs": [
    {
     "data": {
      "text/plain": [
       "reward        0.0\n",
       "channels      0.0\n",
       "difficulty    0.0\n",
       "duration      0.0\n",
       "offer_type    0.0\n",
       "id            0.0\n",
       "dtype: float64"
      ]
     },
     "metadata": {},
     "output_type": "display_data"
    }
   ],
   "source": [
    "### display proportion of missing data for all selected columns\n",
    "display(portfolio.isnull().mean())"
   ]
  },
  {
   "cell_type": "markdown",
   "metadata": {},
   "source": [
    "<h4>Data understanding of portfolio data set</h4>\n",
    "<p>Data set containing offer ids and meta data about each offer (duration, type, etc.):\n",
    "<ul>    \n",
    "    <li>id (string): offer id</li>\n",
    "    <li>offer_type (string): totally 3 offer types (BOGO, discount, informational)</li>\n",
    "    <li>difficulty (int): minimum required spend to complete an offer in USD</li>\n",
    "    <li>reward (int): reward given for completing an offer in USD</li>\n",
    "    <li>duration (int): time in days for offer to be opened</li>\n",
    "    <li>channels (list of strings): totally 4 channel types (web, email, mobile, social)</li>\n",
    "</ul>\n",
    "<p>Observations:\n",
    "    \n",
    "<ul>    \n",
    "    <li>10 rows and 6 columns</li>\n",
    "    <li>no missing values</li>\n",
    "</ul>"
   ]
  },
  {
   "cell_type": "code",
   "execution_count": 6,
   "metadata": {},
   "outputs": [],
   "source": [
    "#### profile"
   ]
  },
  {
   "cell_type": "code",
   "execution_count": 7,
   "metadata": {},
   "outputs": [
    {
     "name": "stdout",
     "output_type": "stream",
     "text": [
      "<class 'pandas.core.frame.DataFrame'>\n",
      "RangeIndex: 17000 entries, 0 to 16999\n",
      "Data columns (total 5 columns):\n",
      " #   Column            Non-Null Count  Dtype  \n",
      "---  ------            --------------  -----  \n",
      " 0   gender            14825 non-null  object \n",
      " 1   age               17000 non-null  int64  \n",
      " 2   id                17000 non-null  object \n",
      " 3   became_member_on  17000 non-null  int64  \n",
      " 4   income            14825 non-null  float64\n",
      "dtypes: float64(1), int64(2), object(2)\n",
      "memory usage: 664.2+ KB\n"
     ]
    },
    {
     "data": {
      "text/plain": [
       "None"
      ]
     },
     "metadata": {},
     "output_type": "display_data"
    }
   ],
   "source": [
    "### display column info of data set\n",
    "display(profile.info())"
   ]
  },
  {
   "cell_type": "markdown",
   "metadata": {},
   "source": [
    "<p>Explore gender data: \n",
    "<ul>\n",
    "    <li>check type and size of categories</li>\n",
    "</ul>"
   ]
  },
  {
   "cell_type": "code",
   "execution_count": 8,
   "metadata": {},
   "outputs": [
    {
     "data": {
      "image/png": "[encoded data removed]",
      "text/plain": [
       "<Figure size 432x288 with 1 Axes>"
      ]
     },
     "metadata": {
      "needs_background": "light"
     },
     "output_type": "display_data"
    }
   ],
   "source": [
    "### define base color for bars\n",
    "base_color = sns.color_palette()[0]\n",
    "### define frequency with value counts in decreasing order of gender column\n",
    "freq = profile[\"gender\"].value_counts()\n",
    "### get index of Series\n",
    "gen_order = freq.index\n",
    "\n",
    "### plot bar chart in decreasing order of gender value counts\n",
    "plt.figure(figsize = [6,4])\n",
    "sns.countplot(data = profile, x = \"gender\", color = base_color, order = gen_order)\n",
    "\n",
    "### get current tick locations and labels\n",
    "locs, labels = plt.xticks(rotation=0) \n",
    "### loop through each pair of locations and labels\n",
    "for loc, label in zip(locs, labels):\n",
    "    ### get text property for label to get the correct count\n",
    "    count = freq[label.get_text()]\n",
    "    pct_string = \"{}\".format(count)\n",
    "    ### print annotation just above top of the bar\n",
    "    plt.text(loc, count+100, pct_string, ha = \"center\", color = \"black\")\n",
    "\n",
    "plt.title(\"Portfolio - gender count\")\n",
    "plt.show();"
   ]
  },
  {
   "cell_type": "markdown",
   "metadata": {},
   "source": [
    "<p>Explore age data: \n",
    "<ul>\n",
    "    <li>check age distribution</li>\n",
    "</ul>"
   ]
  },
  {
   "cell_type": "code",
   "execution_count": 10,
   "metadata": {},
   "outputs": [
    {
     "data": {
      "image/png": "[encoded data removed]",
      "text/plain": [
       "<Figure size 1152x144 with 1 Axes>"
      ]
     },
     "metadata": {
      "needs_background": "light"
     },
     "output_type": "display_data"
    }
   ],
   "source": [
    "### define base color\n",
    "base_color = sns.color_palette()[0]\n",
    "### define figuere size of plot\n",
    "plt.figure(figsize = [16,2])\n",
    "### plot box plot showing outliers\n",
    "sns.boxplot(x = profile[\"age\"], color = base_color)\n",
    "plt.title(\"Portfolio - age ditribution\")\n",
    "plt.show();"
   ]
  },
  {
   "cell_type": "markdown",
   "metadata": {},
   "source": [
    "As we can see there are some values of age before 120 years. It's look like that's an outlier which has to be checked in detail later"
   ]
  },
  {
   "cell_type": "markdown",
   "metadata": {},
   "source": [
    "<p>Format and explore become_member_on data:\n",
    "<ul>\n",
    "    <li>convert dtype from int64 to datetime64</li>\n",
    "    <li>view chart with monthly registrations</li>\n",
    "</ul>"
   ]
  },
  {
   "cell_type": "code",
   "execution_count": 12,
   "metadata": {},
   "outputs": [
    {
     "data": {
      "image/png": "[encoded data removed]",
      "text/plain": [
       "<Figure size 432x288 with 1 Axes>"
      ]
     },
     "metadata": {
      "needs_background": "light"
     },
     "output_type": "display_data"
    }
   ],
   "source": [
    "### convert Dtype from int64 to datetime64 in column \"became_member_on\"\n",
    "profile[\"became_member_on\"] = pd.to_datetime(profile.became_member_on.astype(str))\n",
    "\n",
    "### specify Grouper for monthly counts of registrations\n",
    "monthly_reg = profile.groupby([pd.Grouper(key=\"became_member_on\", freq=\"M\")])[\"became_member_on\"].count()\n",
    "### show line chart with registration date development\n",
    "plt.figure(figsize = [6,4])\n",
    "monthly_reg.plot(title = \"Portfolio - monthly customer registrations\", ylabel = \"count\");"
   ]
  },
  {
   "cell_type": "markdown",
   "metadata": {},
   "source": [
    "<p>Explore income data: \n",
    "<ul>\n",
    "    <li>check income distribution</li>\n",
    "</ul>"
   ]
  },
  {
   "cell_type": "code",
   "execution_count": 13,
   "metadata": {},
   "outputs": [
    {
     "data": {
      "image/png": "[encoded data removed]",
      "text/plain": [
       "<Figure size 1152x144 with 1 Axes>"
      ]
     },
     "metadata": {
      "needs_background": "light"
     },
     "output_type": "display_data"
    }
   ],
   "source": [
    "### define base color\n",
    "base_color = sns.color_palette()[0]\n",
    "### define figuere size of plot\n",
    "plt.figure(figsize = [16,2])\n",
    "### plot box plot showing outliers\n",
    "sns.boxplot(x = profile[\"income\"], color = base_color)\n",
    "plt.title(\"Portfolio - income distribution\")\n",
    "plt.show();"
   ]
  },
  {
   "cell_type": "markdown",
   "metadata": {},
   "source": [
    "<p>Explore missing and dulicated data: \n",
    "<ul>\n",
    "    <li>check for missing data</li>\n",
    "    <li>check for dulicated data</li>\n",
    "</ul>"
   ]
  },
  {
   "cell_type": "code",
   "execution_count": 14,
   "metadata": {},
   "outputs": [
    {
     "data": {
      "text/plain": [
       "gender              2175\n",
       "age                    0\n",
       "id                     0\n",
       "became_member_on       0\n",
       "income              2175\n",
       "dtype: int64"
      ]
     },
     "metadata": {},
     "output_type": "display_data"
    }
   ],
   "source": [
    "### display proportion of missing data for all selected columns\n",
    "display(profile.isnull().sum())"
   ]
  },
  {
   "cell_type": "code",
   "execution_count": 15,
   "metadata": {},
   "outputs": [
    {
     "data": {
      "text/plain": [
       "gender                 0\n",
       "age                 2175\n",
       "id                  2175\n",
       "became_member_on    2175\n",
       "income                 0\n",
       "dtype: int64"
      ]
     },
     "metadata": {},
     "output_type": "display_data"
    }
   ],
   "source": [
    "### Check rows with age = 118\n",
    "age_118 = profile[profile[\"age\"] == 118]\n",
    "display(age_118.count())"
   ]
  },
  {
   "cell_type": "markdown",
   "metadata": {},
   "source": [
    "<p>There are exactly 2,175 customers with missing data for gender and income. Aside we have 2,175 customers with not realistic age of 118. \n",
    "Probably data for gender, income and age was simply not collected for those 2,175 customers at the registration process. We have here a data entry error where for gender and income no values were inserted and for age 118 was inserted.\n",
    "\n",
    "<p>These 2,175 registrations are appr. 12.8 % of the total customers in the data set, which is not few. Nevertheless rather to compute a value for the missing data (by imputation), we decide to remove all these customers for the further data anaylsis process."
   ]
  },
  {
   "cell_type": "code",
   "execution_count": 16,
   "metadata": {},
   "outputs": [
    {
     "name": "stdout",
     "output_type": "stream",
     "text": [
      "Duplicated rows: 0\n"
     ]
    }
   ],
   "source": [
    "### check for duplicated data (duplicated users):\n",
    "profile_dupicated = profile.duplicated().sum()\n",
    "print(\"Duplicated rows:\", profile_dupicated)"
   ]
  },
  {
   "cell_type": "markdown",
   "metadata": {},
   "source": [
    "<h4>Data understanding of profile data set</h4>\n",
    "<p>Data set containing demographic data for each customer:\n",
    "<ul>  \n",
    "    <li>age (int): age of the customer</li>\n",
    "    <li>became_member_on (int): date when customer created an app account</li>\n",
    "    <li>gender (str): gender of the customer with totally 3 categories (M, F, O)</li>\n",
    "    <li>id (string): customer id</li>\n",
    "    <li>income (float): yearly customer's income in USD</li>\n",
    "</ul>\n",
    "\n",
    "<p>Observations:\n",
    "<ul>  \n",
    "    <li>17,000 rows and 5 columns</li>\n",
    "    <li>age has 2175 values with 118 which must be an data entry error (outlier will be removed)</li>    \n",
    "    <li>gender and income have each 2175 missing values which are in the same rows as the high age value of 118 which we consider as data entry error too</li>\n",
    "    <li>became_member_on dtype has to be reformated from integer to datetime</li> \n",
    "    <li>no duplicated rows</li>\n",
    "</ul>    "
   ]
  },
  {
   "cell_type": "markdown",
   "metadata": {},
   "source": [
    "#### transcript"
   ]
  },
  {
   "cell_type": "code",
   "execution_count": 18,
   "metadata": {},
   "outputs": [
    {
     "name": "stdout",
     "output_type": "stream",
     "text": [
      "<class 'pandas.core.frame.DataFrame'>\n",
      "RangeIndex: 306534 entries, 0 to 306533\n",
      "Data columns (total 4 columns):\n",
      " #   Column  Non-Null Count   Dtype \n",
      "---  ------  --------------   ----- \n",
      " 0   person  306534 non-null  object\n",
      " 1   event   306534 non-null  object\n",
      " 2   value   306534 non-null  object\n",
      " 3   time    306534 non-null  int64 \n",
      "dtypes: int64(1), object(3)\n",
      "memory usage: 9.4+ MB\n"
     ]
    },
    {
     "data": {
      "text/plain": [
       "None"
      ]
     },
     "metadata": {},
     "output_type": "display_data"
    }
   ],
   "source": [
    "display(transcript.info())"
   ]
  },
  {
   "cell_type": "markdown",
   "metadata": {},
   "source": [
    "<p>Explore event data: \n",
    "<ul>\n",
    "    <li>check type and size of categories</li>\n",
    "</ul>"
   ]
  },
  {
   "cell_type": "code",
   "execution_count": 20,
   "metadata": {},
   "outputs": [
    {
     "data": {
      "image/png": "[encoded data removed]",
      "text/plain": [
       "<Figure size 432x288 with 1 Axes>"
      ]
     },
     "metadata": {
      "needs_background": "light"
     },
     "output_type": "display_data"
    }
   ],
   "source": [
    "### define base color for bars\n",
    "base_color = sns.color_palette()[0]\n",
    "### define frequency with value counts in decreasing order of gender column\n",
    "freq = transcript[\"event\"].value_counts()\n",
    "### get index of Series\n",
    "gen_order = freq.index\n",
    "\n",
    "### plot bar chart in decreasing order of gender value counts\n",
    "plt.figure(figsize = [6,4])\n",
    "sns.countplot(data = transcript, x = \"event\", color = base_color, order = gen_order)\n",
    "\n",
    "### get current tick locations and labels\n",
    "locs, labels = plt.xticks(rotation=0) \n",
    "### loop through each pair of locations and labels\n",
    "for loc, label in zip(locs, labels):\n",
    "    ### get text property for label to get the correct count\n",
    "    count = freq[label.get_text()]\n",
    "    pct_string = '{}'.format(count)\n",
    "    ### print annotation just above top of the bar\n",
    "    plt.text(loc, count+100, pct_string, ha = \"center\", color = \"black\")\n",
    "\n",
    "plt.title(\"Transcript - event count\")\n",
    "plt.show();"
   ]
  },
  {
   "cell_type": "markdown",
   "metadata": {},
   "source": [
    "<p>Explore time data: \n",
    "<ul>\n",
    "    <li>view chart with time registrations since start of test</li>\n",
    "</ul>"
   ]
  },
  {
   "cell_type": "code",
   "execution_count": 22,
   "metadata": {},
   "outputs": [
    {
     "data": {
      "image/png": "[encoded data removed]",
      "text/plain": [
       "<Figure size 432x288 with 1 Axes>"
      ]
     },
     "metadata": {
      "needs_background": "light"
     },
     "output_type": "display_data"
    }
   ],
   "source": [
    "### line plot showing distribution of time\n",
    "plt.figure(figsize = [6,4])\n",
    "sns.distplot(transcript[\"time\"], hist = False, kde_kws = {\"shade\": True})\n",
    "plt.title(\"Transcript - Distribution of time in hours since start of test\")\n",
    "plt.xlabel(\"Time [h]\");"
   ]
  },
  {
   "cell_type": "markdown",
   "metadata": {},
   "source": [
    "<p>Explore transcript data set for one single customer: \n",
    "<ul>\n",
    "    <li>view process with events and transactions of one customer for better understanding</li>\n",
    "</ul>"
   ]
  },
  {
   "cell_type": "code",
   "execution_count": 23,
   "metadata": {},
   "outputs": [
    {
     "data": {
      "text/html": [
       "<div>\n",
       "<style scoped>\n",
       "    .dataframe tbody tr th:only-of-type {\n",
       "        vertical-align: middle;\n",
       "    }\n",
       "\n",
       "    .dataframe tbody tr th {\n",
       "        vertical-align: top;\n",
       "    }\n",
       "\n",
       "    .dataframe thead th {\n",
       "        text-align: right;\n",
       "    }\n",
       "</style>\n",
       "<table border=\"1\" class=\"dataframe\">\n",
       "  <thead>\n",
       "    <tr style=\"text-align: right;\">\n",
       "      <th></th>\n",
       "      <th>person</th>\n",
       "      <th>event</th>\n",
       "      <th>value</th>\n",
       "      <th>time</th>\n",
       "    </tr>\n",
       "  </thead>\n",
       "  <tbody>\n",
       "    <tr>\n",
       "      <th>0</th>\n",
       "      <td>78afa995795e4d85b5d9ceeca43f5fef</td>\n",
       "      <td>offer received</td>\n",
       "      <td>{'offer id': '9b98b8c7a33c4b65b9aebfe6a799e6d9'}</td>\n",
       "      <td>0</td>\n",
       "    </tr>\n",
       "    <tr>\n",
       "      <th>15561</th>\n",
       "      <td>78afa995795e4d85b5d9ceeca43f5fef</td>\n",
       "      <td>offer viewed</td>\n",
       "      <td>{'offer id': '9b98b8c7a33c4b65b9aebfe6a799e6d9'}</td>\n",
       "      <td>6</td>\n",
       "    </tr>\n",
       "    <tr>\n",
       "      <th>47582</th>\n",
       "      <td>78afa995795e4d85b5d9ceeca43f5fef</td>\n",
       "      <td>transaction</td>\n",
       "      <td>{'amount': 19.89}</td>\n",
       "      <td>132</td>\n",
       "    </tr>\n",
       "    <tr>\n",
       "      <th>47583</th>\n",
       "      <td>78afa995795e4d85b5d9ceeca43f5fef</td>\n",
       "      <td>offer completed</td>\n",
       "      <td>{'offer_id': '9b98b8c7a33c4b65b9aebfe6a799e6d9...</td>\n",
       "      <td>132</td>\n",
       "    </tr>\n",
       "    <tr>\n",
       "      <th>49502</th>\n",
       "      <td>78afa995795e4d85b5d9ceeca43f5fef</td>\n",
       "      <td>transaction</td>\n",
       "      <td>{'amount': 17.78}</td>\n",
       "      <td>144</td>\n",
       "    </tr>\n",
       "    <tr>\n",
       "      <th>53176</th>\n",
       "      <td>78afa995795e4d85b5d9ceeca43f5fef</td>\n",
       "      <td>offer received</td>\n",
       "      <td>{'offer id': '5a8bc65990b245e5a138643cd4eb9837'}</td>\n",
       "      <td>168</td>\n",
       "    </tr>\n",
       "    <tr>\n",
       "      <th>85291</th>\n",
       "      <td>78afa995795e4d85b5d9ceeca43f5fef</td>\n",
       "      <td>offer viewed</td>\n",
       "      <td>{'offer id': '5a8bc65990b245e5a138643cd4eb9837'}</td>\n",
       "      <td>216</td>\n",
       "    </tr>\n",
       "    <tr>\n",
       "      <th>87134</th>\n",
       "      <td>78afa995795e4d85b5d9ceeca43f5fef</td>\n",
       "      <td>transaction</td>\n",
       "      <td>{'amount': 19.67}</td>\n",
       "      <td>222</td>\n",
       "    </tr>\n",
       "    <tr>\n",
       "      <th>92104</th>\n",
       "      <td>78afa995795e4d85b5d9ceeca43f5fef</td>\n",
       "      <td>transaction</td>\n",
       "      <td>{'amount': 29.72}</td>\n",
       "      <td>240</td>\n",
       "    </tr>\n",
       "    <tr>\n",
       "      <th>141566</th>\n",
       "      <td>78afa995795e4d85b5d9ceeca43f5fef</td>\n",
       "      <td>transaction</td>\n",
       "      <td>{'amount': 23.93}</td>\n",
       "      <td>378</td>\n",
       "    </tr>\n",
       "    <tr>\n",
       "      <th>150598</th>\n",
       "      <td>78afa995795e4d85b5d9ceeca43f5fef</td>\n",
       "      <td>offer received</td>\n",
       "      <td>{'offer id': 'ae264e3637204a6fb9bb56bc8210ddfd'}</td>\n",
       "      <td>408</td>\n",
       "    </tr>\n",
       "    <tr>\n",
       "      <th>163375</th>\n",
       "      <td>78afa995795e4d85b5d9ceeca43f5fef</td>\n",
       "      <td>offer viewed</td>\n",
       "      <td>{'offer id': 'ae264e3637204a6fb9bb56bc8210ddfd'}</td>\n",
       "      <td>408</td>\n",
       "    </tr>\n",
       "    <tr>\n",
       "      <th>201572</th>\n",
       "      <td>78afa995795e4d85b5d9ceeca43f5fef</td>\n",
       "      <td>offer received</td>\n",
       "      <td>{'offer id': 'f19421c1d4aa40978ebb69ca19b0e20d'}</td>\n",
       "      <td>504</td>\n",
       "    </tr>\n",
       "    <tr>\n",
       "      <th>218393</th>\n",
       "      <td>78afa995795e4d85b5d9ceeca43f5fef</td>\n",
       "      <td>transaction</td>\n",
       "      <td>{'amount': 21.72}</td>\n",
       "      <td>510</td>\n",
       "    </tr>\n",
       "    <tr>\n",
       "      <th>218394</th>\n",
       "      <td>78afa995795e4d85b5d9ceeca43f5fef</td>\n",
       "      <td>offer completed</td>\n",
       "      <td>{'offer_id': 'ae264e3637204a6fb9bb56bc8210ddfd...</td>\n",
       "      <td>510</td>\n",
       "    </tr>\n",
       "    <tr>\n",
       "      <th>218395</th>\n",
       "      <td>78afa995795e4d85b5d9ceeca43f5fef</td>\n",
       "      <td>offer completed</td>\n",
       "      <td>{'offer_id': 'f19421c1d4aa40978ebb69ca19b0e20d...</td>\n",
       "      <td>510</td>\n",
       "    </tr>\n",
       "    <tr>\n",
       "      <th>230412</th>\n",
       "      <td>78afa995795e4d85b5d9ceeca43f5fef</td>\n",
       "      <td>transaction</td>\n",
       "      <td>{'amount': 26.56}</td>\n",
       "      <td>534</td>\n",
       "    </tr>\n",
       "    <tr>\n",
       "      <th>262138</th>\n",
       "      <td>78afa995795e4d85b5d9ceeca43f5fef</td>\n",
       "      <td>offer viewed</td>\n",
       "      <td>{'offer id': 'f19421c1d4aa40978ebb69ca19b0e20d'}</td>\n",
       "      <td>582</td>\n",
       "    </tr>\n",
       "  </tbody>\n",
       "</table>\n",
       "</div>"
      ],
      "text/plain": [
       "                                  person            event  \\\n",
       "0       78afa995795e4d85b5d9ceeca43f5fef   offer received   \n",
       "15561   78afa995795e4d85b5d9ceeca43f5fef     offer viewed   \n",
       "47582   78afa995795e4d85b5d9ceeca43f5fef      transaction   \n",
       "47583   78afa995795e4d85b5d9ceeca43f5fef  offer completed   \n",
       "49502   78afa995795e4d85b5d9ceeca43f5fef      transaction   \n",
       "53176   78afa995795e4d85b5d9ceeca43f5fef   offer received   \n",
       "85291   78afa995795e4d85b5d9ceeca43f5fef     offer viewed   \n",
       "87134   78afa995795e4d85b5d9ceeca43f5fef      transaction   \n",
       "92104   78afa995795e4d85b5d9ceeca43f5fef      transaction   \n",
       "141566  78afa995795e4d85b5d9ceeca43f5fef      transaction   \n",
       "150598  78afa995795e4d85b5d9ceeca43f5fef   offer received   \n",
       "163375  78afa995795e4d85b5d9ceeca43f5fef     offer viewed   \n",
       "201572  78afa995795e4d85b5d9ceeca43f5fef   offer received   \n",
       "218393  78afa995795e4d85b5d9ceeca43f5fef      transaction   \n",
       "218394  78afa995795e4d85b5d9ceeca43f5fef  offer completed   \n",
       "218395  78afa995795e4d85b5d9ceeca43f5fef  offer completed   \n",
       "230412  78afa995795e4d85b5d9ceeca43f5fef      transaction   \n",
       "262138  78afa995795e4d85b5d9ceeca43f5fef     offer viewed   \n",
       "\n",
       "                                                    value  time  \n",
       "0        {'offer id': '9b98b8c7a33c4b65b9aebfe6a799e6d9'}     0  \n",
       "15561    {'offer id': '9b98b8c7a33c4b65b9aebfe6a799e6d9'}     6  \n",
       "47582                                   {'amount': 19.89}   132  \n",
       "47583   {'offer_id': '9b98b8c7a33c4b65b9aebfe6a799e6d9...   132  \n",
       "49502                                   {'amount': 17.78}   144  \n",
       "53176    {'offer id': '5a8bc65990b245e5a138643cd4eb9837'}   168  \n",
       "85291    {'offer id': '5a8bc65990b245e5a138643cd4eb9837'}   216  \n",
       "87134                                   {'amount': 19.67}   222  \n",
       "92104                                   {'amount': 29.72}   240  \n",
       "141566                                  {'amount': 23.93}   378  \n",
       "150598   {'offer id': 'ae264e3637204a6fb9bb56bc8210ddfd'}   408  \n",
       "163375   {'offer id': 'ae264e3637204a6fb9bb56bc8210ddfd'}   408  \n",
       "201572   {'offer id': 'f19421c1d4aa40978ebb69ca19b0e20d'}   504  \n",
       "218393                                  {'amount': 21.72}   510  \n",
       "218394  {'offer_id': 'ae264e3637204a6fb9bb56bc8210ddfd...   510  \n",
       "218395  {'offer_id': 'f19421c1d4aa40978ebb69ca19b0e20d...   510  \n",
       "230412                                  {'amount': 26.56}   534  \n",
       "262138   {'offer id': 'f19421c1d4aa40978ebb69ca19b0e20d'}   582  "
      ]
     },
     "metadata": {},
     "output_type": "display_data"
    }
   ],
   "source": [
    "### view all transcripts of one customer\n",
    "single_customer = transcript[transcript[\"person\"] == transcript[\"person\"][0]]\n",
    "display(single_customer)"
   ]
  },
  {
   "cell_type": "markdown",
   "metadata": {},
   "source": [
    "<p>The steps to complete an offer are explained according to the dataframe above for the customer \"78afa995795e4d85b5d9ceeca43f5fef\" with the offer \"9b98b8c7a33c4b65b9aebfe6a799e6d9\" (BOGO: difficulty 5 USD, reward 5 USD, duration 7 days):\n",
    "<ol>\n",
    "    <li>time 0 hours: offer was received by customer</li>\n",
    "    <li>time 6 hours: offer was viewed by customer</li>\n",
    "    <li>time 132 hours: customer made a purchase with a transaction of 19.89 USD</li>\n",
    "    <li>time 132 hours: as the transaction was above 5 USD and prior 7 days (168 hours) from offer receive, the offer was completed and the customer got a reward of 5 USD</li>\n",
    "</ol>\n",
    "\n",
    "<p>The promotional offer campaign is always successful when the customer first views and then completes the offer. "
   ]
  },
  {
   "cell_type": "markdown",
   "metadata": {},
   "source": [
    "<p>Explore missing and dulicated data: \n",
    "<ul>\n",
    "    <li>check for missing data</li>\n",
    "    <li>check for dulicated data</li>\n",
    "</ul>"
   ]
  },
  {
   "cell_type": "code",
   "execution_count": 24,
   "metadata": {},
   "outputs": [
    {
     "data": {
      "text/plain": [
       "person    0\n",
       "event     0\n",
       "value     0\n",
       "time      0\n",
       "dtype: int64"
      ]
     },
     "metadata": {},
     "output_type": "display_data"
    }
   ],
   "source": [
    "### display proportion of missing data for all selected columns\n",
    "display(transcript.isnull().sum())"
   ]
  },
  {
   "cell_type": "markdown",
   "metadata": {},
   "source": [
    "<h4>Data understanding of transcript data set</h4>\n",
    "<p>Data set containing records for transactions, offers received, offers viewed, and offers completed:   \n",
    "<ul>\n",
    "    <li>event (str): record description (categories: transaction, offer received, offer viewed, offer competed)</li>\n",
    "    <li>person (str): customer id</li>\n",
    "    <li>time (int): time in hours since start of test beginning at t=0</li>\n",
    "    <li>value (dict of strings): either an offer id or transaction amount in USD depending on the record</li>\n",
    "</ul>\n",
    "\n",
    "<p>Observations:\n",
    "<ul>\n",
    "    <li>306,534 rows and 4 columns</li>\n",
    "    <li>no missing values</li>\n",
    "    <li>duplicated rows 374 to be removed</li>\n",
    "</ul>"
   ]
  },
  {
   "cell_type": "markdown",
   "metadata": {},
   "source": [
    "## 3 Data Preparation <a class='anchor' id='data_preparation'></a>"
   ]
  },
  {
   "cell_type": "markdown",
   "metadata": {},
   "source": [
    "### 3.1 Cleaning and Engineering data"
   ]
  },
  {
   "cell_type": "markdown",
   "metadata": {},
   "source": [
    "<p>We perform cleaning and engineering for all data sets (portfolio, profile, transcript). In particular we focus on following working steps:\n",
    "    \n",
    "<ul>\n",
    "    <li>change alphanumerical ids (offer and customer) to more readable code with integers</li>\n",
    "    <li>convert dtype of features where necessary</li>\n",
    "    <li>drop rows with missing data or outliers</li>\n",
    "    <li>drop rows with duplicated data</li>\n",
    "    <li>group data for further data analysis</li>\n",
    "    <li>create new features with binaries from categorical variables</li>\n",
    "</ul>"
   ]
  },
  {
   "cell_type": "markdown",
   "metadata": {},
   "source": [
    "#### portfolio"
   ]
  },
  {
   "cell_type": "markdown",
   "metadata": {},
   "source": [
    "<p>Offer id is a long and difficult to read alphanumerical string. \n",
    "We will map this alphanumerical string to more readable ID code with integers."
   ]
  },
  {
   "cell_type": "code",
   "execution_count": 25,
   "metadata": {},
   "outputs": [
    {
     "data": {
      "text/html": [
       "<div>\n",
       "<style scoped>\n",
       "    .dataframe tbody tr th:only-of-type {\n",
       "        vertical-align: middle;\n",
       "    }\n",
       "\n",
       "    .dataframe tbody tr th {\n",
       "        vertical-align: top;\n",
       "    }\n",
       "\n",
       "    .dataframe thead th {\n",
       "        text-align: right;\n",
       "    }\n",
       "</style>\n",
       "<table border=\"1\" class=\"dataframe\">\n",
       "  <thead>\n",
       "    <tr style=\"text-align: right;\">\n",
       "      <th></th>\n",
       "      <th>reward</th>\n",
       "      <th>channels</th>\n",
       "      <th>difficulty</th>\n",
       "      <th>duration</th>\n",
       "      <th>offer_type</th>\n",
       "      <th>offer_id</th>\n",
       "    </tr>\n",
       "  </thead>\n",
       "  <tbody>\n",
       "    <tr>\n",
       "      <th>8</th>\n",
       "      <td>5</td>\n",
       "      <td>[web, email, mobile, social]</td>\n",
       "      <td>5</td>\n",
       "      <td>120</td>\n",
       "      <td>bogo</td>\n",
       "      <td>9</td>\n",
       "    </tr>\n",
       "    <tr>\n",
       "      <th>3</th>\n",
       "      <td>5</td>\n",
       "      <td>[web, email, mobile]</td>\n",
       "      <td>5</td>\n",
       "      <td>168</td>\n",
       "      <td>bogo</td>\n",
       "      <td>4</td>\n",
       "    </tr>\n",
       "    <tr>\n",
       "      <th>1</th>\n",
       "      <td>10</td>\n",
       "      <td>[web, email, mobile, social]</td>\n",
       "      <td>10</td>\n",
       "      <td>120</td>\n",
       "      <td>bogo</td>\n",
       "      <td>2</td>\n",
       "    </tr>\n",
       "    <tr>\n",
       "      <th>0</th>\n",
       "      <td>10</td>\n",
       "      <td>[email, mobile, social]</td>\n",
       "      <td>10</td>\n",
       "      <td>168</td>\n",
       "      <td>bogo</td>\n",
       "      <td>1</td>\n",
       "    </tr>\n",
       "    <tr>\n",
       "      <th>5</th>\n",
       "      <td>3</td>\n",
       "      <td>[web, email, mobile, social]</td>\n",
       "      <td>7</td>\n",
       "      <td>168</td>\n",
       "      <td>discount</td>\n",
       "      <td>6</td>\n",
       "    </tr>\n",
       "    <tr>\n",
       "      <th>9</th>\n",
       "      <td>2</td>\n",
       "      <td>[web, email, mobile]</td>\n",
       "      <td>10</td>\n",
       "      <td>168</td>\n",
       "      <td>discount</td>\n",
       "      <td>10</td>\n",
       "    </tr>\n",
       "    <tr>\n",
       "      <th>6</th>\n",
       "      <td>2</td>\n",
       "      <td>[web, email, mobile, social]</td>\n",
       "      <td>10</td>\n",
       "      <td>240</td>\n",
       "      <td>discount</td>\n",
       "      <td>7</td>\n",
       "    </tr>\n",
       "    <tr>\n",
       "      <th>4</th>\n",
       "      <td>5</td>\n",
       "      <td>[web, email]</td>\n",
       "      <td>20</td>\n",
       "      <td>240</td>\n",
       "      <td>discount</td>\n",
       "      <td>5</td>\n",
       "    </tr>\n",
       "    <tr>\n",
       "      <th>7</th>\n",
       "      <td>0</td>\n",
       "      <td>[email, mobile, social]</td>\n",
       "      <td>0</td>\n",
       "      <td>72</td>\n",
       "      <td>informational</td>\n",
       "      <td>8</td>\n",
       "    </tr>\n",
       "    <tr>\n",
       "      <th>2</th>\n",
       "      <td>0</td>\n",
       "      <td>[web, email, mobile]</td>\n",
       "      <td>0</td>\n",
       "      <td>96</td>\n",
       "      <td>informational</td>\n",
       "      <td>3</td>\n",
       "    </tr>\n",
       "  </tbody>\n",
       "</table>\n",
       "</div>"
      ],
      "text/plain": [
       "   reward                      channels  difficulty  duration     offer_type  \\\n",
       "8       5  [web, email, mobile, social]           5       120           bogo   \n",
       "3       5          [web, email, mobile]           5       168           bogo   \n",
       "1      10  [web, email, mobile, social]          10       120           bogo   \n",
       "0      10       [email, mobile, social]          10       168           bogo   \n",
       "5       3  [web, email, mobile, social]           7       168       discount   \n",
       "9       2          [web, email, mobile]          10       168       discount   \n",
       "6       2  [web, email, mobile, social]          10       240       discount   \n",
       "4       5                  [web, email]          20       240       discount   \n",
       "7       0       [email, mobile, social]           0        72  informational   \n",
       "2       0          [web, email, mobile]           0        96  informational   \n",
       "\n",
       "   offer_id  \n",
       "8         9  \n",
       "3         4  \n",
       "1         2  \n",
       "0         1  \n",
       "5         6  \n",
       "9        10  \n",
       "6         7  \n",
       "4         5  \n",
       "7         8  \n",
       "2         3  "
      ]
     },
     "metadata": {},
     "output_type": "display_data"
    }
   ],
   "source": [
    "def create_new_ids(id_series):\n",
    "    \"\"\"\n",
    "    Method for creating new and more readable ID codes (integers) \n",
    "    by taking exisitng IDs and adding new IDs starting with number 1.\n",
    "\n",
    "    Args:\n",
    "        id_series (pd.DataSeries): Dataframe column with existing IDs\n",
    "\n",
    "    Returns:\n",
    "        ids: arrays with existing and new altered IDs\n",
    "    \"\"\"\n",
    "\n",
    "    ids, idn = dict(), 1\n",
    "    for i in id_series.unique():\n",
    "        ids[i] = idn\n",
    "        idn += 1\n",
    "    return ids\n",
    "\n",
    "### create mapping for offer ID\n",
    "offer_id_mapping = create_new_ids(portfolio[\"id\"])\n",
    "\n",
    "### map offer IDs in offer metadata to integers\n",
    "portfolio[\"offer_id\"] = portfolio[\"id\"].map(offer_id_mapping)\n",
    "\n",
    "### drop column with old alphanumerical id\n",
    "portfolio.drop(\"id\", axis = 1, inplace = True)\n",
    "\n",
    "### change the duration from day to hour\n",
    "portfolio[\"duration\"] = portfolio[\"duration\"] * 24\n",
    "\n",
    "### sort portfolio dataframe order of reward size: bogo - discount - informational\n",
    "portfolio.sort_values([\"offer_type\", \"difficulty\", \"duration\"], ascending = [True, True, True], inplace = True)\n",
    "display(portfolio)"
   ]
  },
  {
   "cell_type": "markdown",
   "metadata": {},
   "source": [
    "<h4>Data Engineering steps of portfolio data set</h4>\n",
    "\n",
    "<ul>\n",
    "    <li>map offer IDs from alphanumerical unreadable code to integers and remove old offer id column</li>\n",
    "    <li>change duration value from days to hours</li>\n",
    "    <li>sort rows according offer_type, difficulty and duration</li>\n",
    "</ul>"
   ]
  },
  {
   "cell_type": "markdown",
   "metadata": {},
   "source": [
    "####  profile"
   ]
  },
  {
   "cell_type": "markdown",
   "metadata": {},
   "source": [
    "Identify rows with missing user values (gender, income, age = 118) and remove these rows."
   ]
  },
  {
   "cell_type": "code",
   "execution_count": 26,
   "metadata": {},
   "outputs": [
    {
     "data": {
      "text/plain": [
       "(14825, 5)"
      ]
     },
     "metadata": {},
     "output_type": "display_data"
    }
   ],
   "source": [
    "### Create array with users containing missing data (gender)\n",
    "missing_users = profile.loc[profile.gender.isnull(), \"id\"].values\n",
    "\n",
    "### drop all rows containing missing data\n",
    "profile.dropna(inplace=True)\n",
    "display(profile.shape)"
   ]
  },
  {
   "cell_type": "markdown",
   "metadata": {},
   "source": [
    "<p>User id is a long and difficult to read alphanumerical string. \n",
    "We will map this alphanumerical string to more readable ID code with integers"
   ]
  },
  {
   "cell_type": "code",
   "execution_count": 27,
   "metadata": {},
   "outputs": [
    {
     "data": {
      "text/html": [
       "<div>\n",
       "<style scoped>\n",
       "    .dataframe tbody tr th:only-of-type {\n",
       "        vertical-align: middle;\n",
       "    }\n",
       "\n",
       "    .dataframe tbody tr th {\n",
       "        vertical-align: top;\n",
       "    }\n",
       "\n",
       "    .dataframe thead th {\n",
       "        text-align: right;\n",
       "    }\n",
       "</style>\n",
       "<table border=\"1\" class=\"dataframe\">\n",
       "  <thead>\n",
       "    <tr style=\"text-align: right;\">\n",
       "      <th></th>\n",
       "      <th>gender</th>\n",
       "      <th>age</th>\n",
       "      <th>became_member_on</th>\n",
       "      <th>income</th>\n",
       "      <th>customer_id</th>\n",
       "    </tr>\n",
       "  </thead>\n",
       "  <tbody>\n",
       "    <tr>\n",
       "      <th>1</th>\n",
       "      <td>F</td>\n",
       "      <td>55</td>\n",
       "      <td>2017-07-15</td>\n",
       "      <td>112000.0</td>\n",
       "      <td>1</td>\n",
       "    </tr>\n",
       "  </tbody>\n",
       "</table>\n",
       "</div>"
      ],
      "text/plain": [
       "  gender  age became_member_on    income  customer_id\n",
       "1      F   55       2017-07-15  112000.0            1"
      ]
     },
     "execution_count": 27,
     "metadata": {},
     "output_type": "execute_result"
    }
   ],
   "source": [
    "### create mapping for user ID\n",
    "user_id_mapping = create_new_ids(profile[\"id\"])\n",
    "\n",
    "### map user IDs in user metadata to integers\n",
    "profile[\"customer_id\"] = profile[\"id\"].map(user_id_mapping)\n",
    "\n",
    "### drop column with old alphanumerical id\n",
    "profile.drop(\"id\", axis = 1, inplace = True)\n",
    "profile.head(1)"
   ]
  },
  {
   "cell_type": "markdown",
   "metadata": {},
   "source": [
    "<p>Create new features: \n",
    "<ul>\n",
    "    <li>add dummy columns with binaries of gender categories</li>\n",
    "    <li>add categorical feature with predefined income ranges</li>\n",
    "    <li>add categorical feature with predefined age groups</li>\n",
    "</ul>"
   ]
  },
  {
   "cell_type": "code",
   "execution_count": 28,
   "metadata": {},
   "outputs": [
    {
     "data": {
      "text/html": [
       "<div>\n",
       "<style scoped>\n",
       "    .dataframe tbody tr th:only-of-type {\n",
       "        vertical-align: middle;\n",
       "    }\n",
       "\n",
       "    .dataframe tbody tr th {\n",
       "        vertical-align: top;\n",
       "    }\n",
       "\n",
       "    .dataframe thead th {\n",
       "        text-align: right;\n",
       "    }\n",
       "</style>\n",
       "<table border=\"1\" class=\"dataframe\">\n",
       "  <thead>\n",
       "    <tr style=\"text-align: right;\">\n",
       "      <th></th>\n",
       "      <th>gender</th>\n",
       "      <th>age</th>\n",
       "      <th>became_member_on</th>\n",
       "      <th>income</th>\n",
       "      <th>customer_id</th>\n",
       "      <th>F</th>\n",
       "      <th>M</th>\n",
       "      <th>O</th>\n",
       "      <th>income_range</th>\n",
       "      <th>age_group</th>\n",
       "    </tr>\n",
       "  </thead>\n",
       "  <tbody>\n",
       "    <tr>\n",
       "      <th>1</th>\n",
       "      <td>F</td>\n",
       "      <td>55</td>\n",
       "      <td>2017-07-15</td>\n",
       "      <td>112000</td>\n",
       "      <td>1</td>\n",
       "      <td>1</td>\n",
       "      <td>0</td>\n",
       "      <td>0</td>\n",
       "      <td>105k-120k</td>\n",
       "      <td>45-55</td>\n",
       "    </tr>\n",
       "  </tbody>\n",
       "</table>\n",
       "</div>"
      ],
      "text/plain": [
       "  gender  age became_member_on  income  customer_id  F  M  O income_range  \\\n",
       "1      F   55       2017-07-15  112000            1  1  0  0    105k-120k   \n",
       "\n",
       "  age_group  \n",
       "1     45-55  "
      ]
     },
     "metadata": {},
     "output_type": "display_data"
    },
    {
     "data": {
      "text/plain": [
       "(14825, 10)"
      ]
     },
     "metadata": {},
     "output_type": "display_data"
    }
   ],
   "source": [
    "### add dummy columns for gender type categories. \n",
    "dummies_gender = pd.get_dummies(profile[\"gender\"], columns = [\"gender\"])\n",
    "profile = pd.concat([profile, dummies_gender.set_index(profile.index)], axis = 1)\n",
    "\n",
    "### convert Dtype from float64 to int64 in column \"income\"\n",
    "profile[\"income\"] = profile.income.astype(int)\n",
    "\n",
    "### add new column income_range with category of income ranges\n",
    "profile[\"income_range\"] = pd.cut(profile[\"income\"], bins=[29900, 45000, 60000, 75000, 90000, 105000, 120100],\n",
    "                                 labels=[\"30k-45k\", \"45k-60k\", \"60k-75k\", \"75k-90k\", \"90k-105k\", \"105k-120k\"])\n",
    "\n",
    "### add new column age_group with category of age groups\n",
    "profile[\"age_group\"] = pd.cut(profile[\"age\"], bins=[17, 25, 35, 45, 55, 65, 105],\n",
    "                                 labels=[\"18-25\", \"25-35\", \"35-45\", \"45-55\", \"55-65\", \">65\"])\n",
    "\n",
    "display(profile.head(1), profile.shape)"
   ]
  },
  {
   "cell_type": "markdown",
   "metadata": {},
   "source": [
    "<h4>Data Engineering steps of profile data set</h4>\n",
    "\n",
    "<ul>\n",
    "    <li>remove rows with missing information (gender, age = 118, income)</li>\n",
    "    <li>map user IDs from alphanumerical unreadable code to integers and remove old user id column</li>\n",
    "    <li>create dummy variables with binaries of gender column</li>\n",
    "    <li>convert dtype of income column from float64 to int64</li>\n",
    "    <li>create new feature with income range</li>\n",
    "    <li>create new feature with age group</li>\n",
    "</ul>"
   ]
  },
  {
   "cell_type": "markdown",
   "metadata": {},
   "source": [
    "####  transcript"
   ]
  },
  {
   "cell_type": "markdown",
   "metadata": {},
   "source": [
    "<p>Remove data with missing customer entries and change customer id alphanumerical string to more readable ID code with integers:"
   ]
  },
  {
   "cell_type": "code",
   "execution_count": 29,
   "metadata": {},
   "outputs": [
    {
     "data": {
      "text/html": [
       "<div>\n",
       "<style scoped>\n",
       "    .dataframe tbody tr th:only-of-type {\n",
       "        vertical-align: middle;\n",
       "    }\n",
       "\n",
       "    .dataframe tbody tr th {\n",
       "        vertical-align: top;\n",
       "    }\n",
       "\n",
       "    .dataframe thead th {\n",
       "        text-align: right;\n",
       "    }\n",
       "</style>\n",
       "<table border=\"1\" class=\"dataframe\">\n",
       "  <thead>\n",
       "    <tr style=\"text-align: right;\">\n",
       "      <th></th>\n",
       "      <th>event</th>\n",
       "      <th>value</th>\n",
       "      <th>time</th>\n",
       "      <th>customer_id</th>\n",
       "    </tr>\n",
       "  </thead>\n",
       "  <tbody>\n",
       "    <tr>\n",
       "      <th>0</th>\n",
       "      <td>offer received</td>\n",
       "      <td>{'offer id': '9b98b8c7a33c4b65b9aebfe6a799e6d9'}</td>\n",
       "      <td>0</td>\n",
       "      <td>2</td>\n",
       "    </tr>\n",
       "  </tbody>\n",
       "</table>\n",
       "</div>"
      ],
      "text/plain": [
       "            event                                             value  time  \\\n",
       "0  offer received  {'offer id': '9b98b8c7a33c4b65b9aebfe6a799e6d9'}     0   \n",
       "\n",
       "   customer_id  \n",
       "0            2  "
      ]
     },
     "execution_count": 29,
     "metadata": {},
     "output_type": "execute_result"
    }
   ],
   "source": [
    "### identify events of customers with missing data (gender, age, income)\n",
    "missing_user_events = transcript[transcript.person.isin(missing_users)].index.values\n",
    "### drop events with missing customer data\n",
    "transcript.drop(missing_user_events, inplace = True) # drop events\n",
    "\n",
    "### map user IDs in offer metadata to integers\n",
    "transcript[\"customer_id\"] = transcript[\"person\"].map(user_id_mapping)\n",
    "### drop column with ld alphanumerica id\n",
    "transcript.drop(\"person\", axis = 1, inplace = True)\n",
    "transcript.head(1)"
   ]
  },
  {
   "cell_type": "markdown",
   "metadata": {},
   "source": [
    "<p>Create new features: \n",
    "<ul>\n",
    "    <li>unpack categorical variables of value column</li>\n",
    "    <li>create dummy variables with binaries of value column (categories: offer_id, reward, amount) and remove value column</li>\n",
    "    <li>map alphanumerical offer id string to more readable ID code with integers</li>\n",
    "    <li>create dummy variables with binaries of event column</li>\n",
    "</ul>"
   ]
  },
  {
   "cell_type": "code",
   "execution_count": 31,
   "metadata": {},
   "outputs": [],
   "source": [
    "### create empty arrays for categorical values (offer_id, reward and amount) \n",
    "value_cols={\"offer_ids\": [], \"reward\": [], \"amount\": []}\n",
    "\n",
    "### iterate through value column, look for categorical variables \n",
    "### and store those in new columns (offer_ids, reward and amount)\n",
    "for row in transcript.itertuples():\n",
    "    ### create empty lists for categorical values (offer_id, reward and amount)\n",
    "    offer_id = None\n",
    "    reward = None\n",
    "    amount = None\n",
    "    \n",
    "    ### categorical variable offer_id is written in two spellings (offer_id and offer id) which are both the same\n",
    "    if \"offer_id\" in row.value.keys():\n",
    "        offer_id = row.value[\"offer_id\"]\n",
    "    if \"offer id\" in row.value.keys():\n",
    "        offer_id = row.value[\"offer id\"]\n",
    "    if 'reward' in row.value.keys():\n",
    "        reward = row.value[\"reward\"]\n",
    "    if 'amount' in row.value.keys():  \n",
    "        amount = row.value[\"amount\"]\n",
    "    \n",
    "    ### store values in new columns (offer_ids, reward and amount)\n",
    "    value_cols[\"offer_ids\"].append(offer_id)\n",
    "    value_cols[\"reward\"].append(reward)\n",
    "    value_cols[\"amount\"].append(amount)\n",
    "\n",
    "### Add new columns (offer_ids, reward and amount) to transcript dataframe and drop value column\n",
    "transcript = pd.concat([transcript, pd.DataFrame(value_cols).\n",
    "                        set_index(transcript.index)], axis=1).drop(columns=[\"value\"])\n",
    "\n",
    "### map offer IDs to integers and delete helper offer_ids column\n",
    "transcript[\"offer_id\"] = transcript[\"offer_ids\"].map(offer_id_mapping)\n",
    "del transcript[\"offer_ids\"]\n",
    "\n",
    "### add dummy columns for event type categories.\n",
    "dummies_event = pd.get_dummies(transcript[\"event\"], columns = [\"event\"])\n",
    "transcript = pd.concat([transcript, dummies_event.set_index(transcript.index)], axis=1)"
   ]
  },
  {
   "cell_type": "markdown",
   "metadata": {},
   "source": [
    "<p>Remove dulicated data: \n",
    "<ul>\n",
    "    <li>identify duplicated rows</li>\n",
    "    <li>drop duplicated rows</li>\n",
    "</ul>"
   ]
  },
  {
   "cell_type": "code",
   "execution_count": 32,
   "metadata": {},
   "outputs": [
    {
     "name": "stdout",
     "output_type": "stream",
     "text": [
      "Duplicated events: 374\n"
     ]
    },
    {
     "data": {
      "text/html": [
       "<div>\n",
       "<style scoped>\n",
       "    .dataframe tbody tr th:only-of-type {\n",
       "        vertical-align: middle;\n",
       "    }\n",
       "\n",
       "    .dataframe tbody tr th {\n",
       "        vertical-align: top;\n",
       "    }\n",
       "\n",
       "    .dataframe thead th {\n",
       "        text-align: right;\n",
       "    }\n",
       "</style>\n",
       "<table border=\"1\" class=\"dataframe\">\n",
       "  <thead>\n",
       "    <tr style=\"text-align: right;\">\n",
       "      <th></th>\n",
       "      <th>event</th>\n",
       "      <th>time</th>\n",
       "      <th>customer_id</th>\n",
       "      <th>reward</th>\n",
       "      <th>amount</th>\n",
       "      <th>offer_id</th>\n",
       "      <th>offer completed</th>\n",
       "      <th>offer received</th>\n",
       "      <th>offer viewed</th>\n",
       "      <th>transaction</th>\n",
       "    </tr>\n",
       "  </thead>\n",
       "  <tbody>\n",
       "    <tr>\n",
       "      <th>66122</th>\n",
       "      <td>offer completed</td>\n",
       "      <td>168</td>\n",
       "      <td>1271</td>\n",
       "      <td>2.0</td>\n",
       "      <td>NaN</td>\n",
       "      <td>10.0</td>\n",
       "      <td>1</td>\n",
       "      <td>0</td>\n",
       "      <td>0</td>\n",
       "      <td>0</td>\n",
       "    </tr>\n",
       "    <tr>\n",
       "      <th>66123</th>\n",
       "      <td>offer completed</td>\n",
       "      <td>168</td>\n",
       "      <td>1271</td>\n",
       "      <td>2.0</td>\n",
       "      <td>NaN</td>\n",
       "      <td>10.0</td>\n",
       "      <td>1</td>\n",
       "      <td>0</td>\n",
       "      <td>0</td>\n",
       "      <td>0</td>\n",
       "    </tr>\n",
       "    <tr>\n",
       "      <th>66782</th>\n",
       "      <td>offer completed</td>\n",
       "      <td>168</td>\n",
       "      <td>3872</td>\n",
       "      <td>10.0</td>\n",
       "      <td>NaN</td>\n",
       "      <td>1.0</td>\n",
       "      <td>1</td>\n",
       "      <td>0</td>\n",
       "      <td>0</td>\n",
       "      <td>0</td>\n",
       "    </tr>\n",
       "    <tr>\n",
       "      <th>66783</th>\n",
       "      <td>offer completed</td>\n",
       "      <td>168</td>\n",
       "      <td>3872</td>\n",
       "      <td>10.0</td>\n",
       "      <td>NaN</td>\n",
       "      <td>1.0</td>\n",
       "      <td>1</td>\n",
       "      <td>0</td>\n",
       "      <td>0</td>\n",
       "      <td>0</td>\n",
       "    </tr>\n",
       "    <tr>\n",
       "      <th>67613</th>\n",
       "      <td>offer completed</td>\n",
       "      <td>168</td>\n",
       "      <td>7462</td>\n",
       "      <td>5.0</td>\n",
       "      <td>NaN</td>\n",
       "      <td>4.0</td>\n",
       "      <td>1</td>\n",
       "      <td>0</td>\n",
       "      <td>0</td>\n",
       "      <td>0</td>\n",
       "    </tr>\n",
       "  </tbody>\n",
       "</table>\n",
       "</div>"
      ],
      "text/plain": [
       "                 event  time  customer_id  reward  amount  offer_id  \\\n",
       "66122  offer completed   168         1271     2.0     NaN      10.0   \n",
       "66123  offer completed   168         1271     2.0     NaN      10.0   \n",
       "66782  offer completed   168         3872    10.0     NaN       1.0   \n",
       "66783  offer completed   168         3872    10.0     NaN       1.0   \n",
       "67613  offer completed   168         7462     5.0     NaN       4.0   \n",
       "\n",
       "       offer completed  offer received  offer viewed  transaction  \n",
       "66122                1               0             0            0  \n",
       "66123                1               0             0            0  \n",
       "66782                1               0             0            0  \n",
       "66783                1               0             0            0  \n",
       "67613                1               0             0            0  "
      ]
     },
     "metadata": {},
     "output_type": "display_data"
    },
    {
     "data": {
      "text/plain": [
       "offer completed    747\n",
       "Name: event, dtype: int64"
      ]
     },
     "metadata": {},
     "output_type": "display_data"
    }
   ],
   "source": [
    "### identify duplicated data (duplicated events):\n",
    "number_duplicated = transcript.duplicated().sum()\n",
    "print(\"Duplicated events:\", number_duplicated)\n",
    "\n",
    "### prepare df with duplicated events for checking\n",
    "duplicated_events = transcript[transcript.duplicated(keep=False)]\n",
    "duplicated_events_value_counts = duplicated_events[\"event\"].value_counts()\n",
    "display(duplicated_events.head(), duplicated_events_value_counts)"
   ]
  },
  {
   "cell_type": "markdown",
   "metadata": {},
   "source": [
    "<p>There are totally 374 duplicated events only with offers beeing completed. This looks like an error at data insertation because the events were all documented at the same time and it is unlikely that one user completes one offer type twice. As this is a data entry error we will remove these duplicates. "
   ]
  },
  {
   "cell_type": "code",
   "execution_count": 33,
   "metadata": {},
   "outputs": [
    {
     "name": "stdout",
     "output_type": "stream",
     "text": [
      "Duplicated events: 0\n"
     ]
    }
   ],
   "source": [
    "### Drop duplicated events\n",
    "transcript.drop_duplicates(inplace=True)\n",
    "number_duplicated_new = transcript.duplicated().sum()\n",
    "print(\"Duplicated events:\", number_duplicated_new)"
   ]
  },
  {
   "cell_type": "markdown",
   "metadata": {},
   "source": [
    "<p>Check missing values in transcript dataframe after data engineering."
   ]
  },
  {
   "cell_type": "code",
   "execution_count": 34,
   "metadata": {},
   "outputs": [
    {
     "data": {
      "text/plain": [
       "event                   0\n",
       "time                    0\n",
       "customer_id             0\n",
       "reward             240318\n",
       "amount             148431\n",
       "offer_id           123957\n",
       "offer completed         0\n",
       "offer received          0\n",
       "offer viewed            0\n",
       "transaction             0\n",
       "dtype: int64"
      ]
     },
     "metadata": {},
     "output_type": "display_data"
    }
   ],
   "source": [
    "### display proportion of missing data for all selected columns\n",
    "display(transcript.isnull().sum())"
   ]
  },
  {
   "cell_type": "markdown",
   "metadata": {},
   "source": [
    "<p>We have missing values in columns reward, amount and offer_id. This are the created dummy features from the value column.\n",
    "<p>We will keep all missing values due to following reasons:\n",
    "<ul>\n",
    "    <li>for event \"offer_received\" and \"offer_viewed\" there is no reward and no amount</li>\n",
    "    <li>for the event \"offer_completed\" there is no transaction and no amount</li>\n",
    "    <li>for the event \"transaction\" there is no offer_id and no reward corresponding to any transaction</li>\n",
    "</ul>\n",
    "<p>All missing data (NaN) will be replaced in a further step by 0.0."
   ]
  },
  {
   "cell_type": "markdown",
   "metadata": {},
   "source": [
    "<h4>Data Engineering steps of transcript data set</h4>\n",
    "\n",
    "<ul>   \n",
    "    <li>drop rows with missing user information (gender, age = 118, income) in profile dataframe</li>\n",
    "    <li>map customer IDs from alphanumerical unreadable code to integers and remove old customer id column</li>\n",
    "    <li>create dummy variables with binaries of value column</li>\n",
    "    <li>create dummy variables with binaries of event column</li>\n",
    "    <li>map offer IDs from alphanumerical unreadable code to integers and remove old offer id column (initially value column)</li>\n",
    "    <li>remove 374 duplicated events</li>\n",
    "</ul>"
   ]
  },
  {
   "cell_type": "markdown",
   "metadata": {},
   "source": [
    "<p>Finally we create a master dataframe where we merge data of transcript (transaction), profile (demographic) and portfolio (offer) with the goal to use it for exploratory data analysis and modeling. Here we perform following steps:\n",
    "\n",
    "<ul>\n",
    "    <li>create promotion_success dataframe on basis of transcript dataframe with one row per offer id and per customer containing information of several events (offer received, offer_viewed, offer_completed, treansaction)</li>\n",
    "    <li>replace NaN values with 0.0</li>\n",
    "    <li>create new feature promotion_success with binaries (1 for promotion was successfull and 0 for not successful)</li>\n",
    "    <li>take promotion_success dataframe and merge portfolio dataframe on offer_id</li>\n",
    "    <li>merge profile dataframe on cutomer_id</li>\n",
    "    <li>rename column names</li>\n",
    "</ul>"
   ]
  },
  {
   "cell_type": "code",
   "execution_count": null,
   "metadata": {},
   "outputs": [],
   "source": []
  }
 ],
 "metadata": {
  "kernelspec": {
   "display_name": "Python 3",
   "language": "python",
   "name": "python3"
  },
  "language_info": {
   "codemirror_mode": {
    "name": "ipython",
    "version": 3
   },
   "file_extension": ".py",
   "mimetype": "text/x-python",
   "name": "python",
   "nbconvert_exporter": "python",
   "pygments_lexer": "ipython3",
   "version": "3.8.10"
  }
 },
 "nbformat": 4,
 "nbformat_minor": 4
}
