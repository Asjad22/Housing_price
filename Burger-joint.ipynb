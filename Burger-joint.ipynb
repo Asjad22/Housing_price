{
 "cells": [
  {
   "cell_type": "code",
   "execution_count": 1,
   "metadata": {},
   "outputs": [],
   "source": [
    "from faker import Faker\n",
    "import faker.providers.credit_card\n",
    "import pandas as pd\n",
    "import numpy as np\n",
    "\n",
    "# to make this notebook's output identical at every run\n",
    "np.random.seed(42)\n",
    "\n",
    "\n",
    "\n",
    "import random\n",
    "from random import randint\n",
    "import seaborn as sns\n",
    "import matplotlib.pyplot as plt\n",
    "import math\n",
    "%matplotlib inline\n",
    "### setup warnings\n",
    "import warnings\n",
    "warnings.filterwarnings(\"ignore\")"
   ]
  },
  {
   "cell_type": "markdown",
   "metadata": {},
   "source": [
    "Generating fake dataset:"
   ]
  },
  {
   "cell_type": "code",
   "execution_count": 2,
   "metadata": {},
   "outputs": [],
   "source": [
    "fake1 = Faker(['en_US', 'en_UK'], use_weighting=True)\n",
    "fake = Faker(['en_US', 'en_UK'], use_weighting=True, seed=1)\n",
    "             \n",
    "customers = {}\n",
    "\n",
    "for i in range(0, 700):\n",
    "    customers[i]={}\n",
    "    customers[i]['cust_id'] = fake1.random_int(min=1, max=1000)\n",
    "    customers[i]['credit_card_number'] = fake1.credit_card_number()\n",
    "    customers[i]['transaction_date_time'] = fake.date_time_this_month()\n",
    "    customers[i]['name'] = fake1.name()\n",
    "    customers[i]['transaction_amount'] = fake1.random_int(min=100, max=1000)\n",
    "customer_df = pd.DataFrame(customers).T"
   ]
  },
  {
   "cell_type": "code",
   "execution_count": 3,
   "metadata": {
    "scrolled": false
   },
   "outputs": [
    {
     "data": {
      "text/html": [
       "<div>\n",
       "<style scoped>\n",
       "    .dataframe tbody tr th:only-of-type {\n",
       "        vertical-align: middle;\n",
       "    }\n",
       "\n",
       "    .dataframe tbody tr th {\n",
       "        vertical-align: top;\n",
       "    }\n",
       "\n",
       "    .dataframe thead th {\n",
       "        text-align: right;\n",
       "    }\n",
       "</style>\n",
       "<table border=\"1\" class=\"dataframe\">\n",
       "  <thead>\n",
       "    <tr style=\"text-align: right;\">\n",
       "      <th></th>\n",
       "      <th>transaction_type</th>\n",
       "    </tr>\n",
       "  </thead>\n",
       "  <tbody>\n",
       "    <tr>\n",
       "      <th>0</th>\n",
       "      <td>3</td>\n",
       "    </tr>\n",
       "    <tr>\n",
       "      <th>1</th>\n",
       "      <td>1</td>\n",
       "    </tr>\n",
       "    <tr>\n",
       "      <th>2</th>\n",
       "      <td>3</td>\n",
       "    </tr>\n",
       "    <tr>\n",
       "      <th>3</th>\n",
       "      <td>3</td>\n",
       "    </tr>\n",
       "    <tr>\n",
       "      <th>4</th>\n",
       "      <td>1</td>\n",
       "    </tr>\n",
       "    <tr>\n",
       "      <th>...</th>\n",
       "      <td>...</td>\n",
       "    </tr>\n",
       "    <tr>\n",
       "      <th>695</th>\n",
       "      <td>2</td>\n",
       "    </tr>\n",
       "    <tr>\n",
       "      <th>696</th>\n",
       "      <td>3</td>\n",
       "    </tr>\n",
       "    <tr>\n",
       "      <th>697</th>\n",
       "      <td>1</td>\n",
       "    </tr>\n",
       "    <tr>\n",
       "      <th>698</th>\n",
       "      <td>1</td>\n",
       "    </tr>\n",
       "    <tr>\n",
       "      <th>699</th>\n",
       "      <td>2</td>\n",
       "    </tr>\n",
       "  </tbody>\n",
       "</table>\n",
       "<p>700 rows × 1 columns</p>\n",
       "</div>"
      ],
      "text/plain": [
       "     transaction_type\n",
       "0                   3\n",
       "1                   1\n",
       "2                   3\n",
       "3                   3\n",
       "4                   1\n",
       "..                ...\n",
       "695                 2\n",
       "696                 3\n",
       "697                 1\n",
       "698                 1\n",
       "699                 2\n",
       "\n",
       "[700 rows x 1 columns]"
      ]
     },
     "execution_count": 3,
     "metadata": {},
     "output_type": "execute_result"
    }
   ],
   "source": [
    "# assuming 3 different transaction type\n",
    "types = np.random.randint(1,4,size=(700, 1))\n",
    "transaction = pd.DataFrame(types, columns=['transaction_type'])\n",
    "transaction"
   ]
  },
  {
   "cell_type": "markdown",
   "metadata": {},
   "source": [
    "Assuming 4 different location:\n",
    "lets say, \n",
    "\n",
    "4 = Cinema,"
   ]
  },
  {
   "cell_type": "code",
   "execution_count": 4,
   "metadata": {},
   "outputs": [
    {
     "data": {
      "text/html": [
       "<div>\n",
       "<style scoped>\n",
       "    .dataframe tbody tr th:only-of-type {\n",
       "        vertical-align: middle;\n",
       "    }\n",
       "\n",
       "    .dataframe tbody tr th {\n",
       "        vertical-align: top;\n",
       "    }\n",
       "\n",
       "    .dataframe thead th {\n",
       "        text-align: right;\n",
       "    }\n",
       "</style>\n",
       "<table border=\"1\" class=\"dataframe\">\n",
       "  <thead>\n",
       "    <tr style=\"text-align: right;\">\n",
       "      <th></th>\n",
       "      <th>terminal_loc</th>\n",
       "    </tr>\n",
       "  </thead>\n",
       "  <tbody>\n",
       "    <tr>\n",
       "      <th>0</th>\n",
       "      <td>3</td>\n",
       "    </tr>\n",
       "    <tr>\n",
       "      <th>1</th>\n",
       "      <td>3</td>\n",
       "    </tr>\n",
       "    <tr>\n",
       "      <th>2</th>\n",
       "      <td>1</td>\n",
       "    </tr>\n",
       "    <tr>\n",
       "      <th>3</th>\n",
       "      <td>1</td>\n",
       "    </tr>\n",
       "    <tr>\n",
       "      <th>4</th>\n",
       "      <td>2</td>\n",
       "    </tr>\n",
       "    <tr>\n",
       "      <th>...</th>\n",
       "      <td>...</td>\n",
       "    </tr>\n",
       "    <tr>\n",
       "      <th>695</th>\n",
       "      <td>1</td>\n",
       "    </tr>\n",
       "    <tr>\n",
       "      <th>696</th>\n",
       "      <td>4</td>\n",
       "    </tr>\n",
       "    <tr>\n",
       "      <th>697</th>\n",
       "      <td>3</td>\n",
       "    </tr>\n",
       "    <tr>\n",
       "      <th>698</th>\n",
       "      <td>3</td>\n",
       "    </tr>\n",
       "    <tr>\n",
       "      <th>699</th>\n",
       "      <td>4</td>\n",
       "    </tr>\n",
       "  </tbody>\n",
       "</table>\n",
       "<p>700 rows × 1 columns</p>\n",
       "</div>"
      ],
      "text/plain": [
       "     terminal_loc\n",
       "0               3\n",
       "1               3\n",
       "2               1\n",
       "3               1\n",
       "4               2\n",
       "..            ...\n",
       "695             1\n",
       "696             4\n",
       "697             3\n",
       "698             3\n",
       "699             4\n",
       "\n",
       "[700 rows x 1 columns]"
      ]
     },
     "execution_count": 4,
     "metadata": {},
     "output_type": "execute_result"
    }
   ],
   "source": [
    "# assuming 4 different location\n",
    "loc = np.random.randint(1,5,size=(700, 1))\n",
    "terminal_loc = pd.DataFrame(loc, columns=['terminal_loc'])\n",
    "terminal_loc"
   ]
  },
  {
   "cell_type": "code",
   "execution_count": 5,
   "metadata": {},
   "outputs": [],
   "source": [
    "data = pd.concat([customer_df, transaction, terminal_loc], axis='columns')\n",
    "df = pd.DataFrame(data)\n",
    "df.to_csv('fake_credit.csv', index=False)"
   ]
  },
  {
   "cell_type": "code",
   "execution_count": 6,
   "metadata": {},
   "outputs": [
    {
     "data": {
      "text/html": [
       "<div>\n",
       "<style scoped>\n",
       "    .dataframe tbody tr th:only-of-type {\n",
       "        vertical-align: middle;\n",
       "    }\n",
       "\n",
       "    .dataframe tbody tr th {\n",
       "        vertical-align: top;\n",
       "    }\n",
       "\n",
       "    .dataframe thead th {\n",
       "        text-align: right;\n",
       "    }\n",
       "</style>\n",
       "<table border=\"1\" class=\"dataframe\">\n",
       "  <thead>\n",
       "    <tr style=\"text-align: right;\">\n",
       "      <th></th>\n",
       "      <th>cust_id</th>\n",
       "      <th>credit_card_number</th>\n",
       "      <th>transaction_date_time</th>\n",
       "      <th>name</th>\n",
       "      <th>transaction_amount</th>\n",
       "      <th>transaction_type</th>\n",
       "      <th>terminal_loc</th>\n",
       "    </tr>\n",
       "  </thead>\n",
       "  <tbody>\n",
       "    <tr>\n",
       "      <th>0</th>\n",
       "      <td>524</td>\n",
       "      <td>4769528247162</td>\n",
       "      <td>2022-04-22 09:18:44</td>\n",
       "      <td>Felicia Jennings</td>\n",
       "      <td>459</td>\n",
       "      <td>3</td>\n",
       "      <td>3</td>\n",
       "    </tr>\n",
       "    <tr>\n",
       "      <th>1</th>\n",
       "      <td>561</td>\n",
       "      <td>4786614134088</td>\n",
       "      <td>2022-04-16 10:32:14</td>\n",
       "      <td>Michael Murray</td>\n",
       "      <td>768</td>\n",
       "      <td>1</td>\n",
       "      <td>3</td>\n",
       "    </tr>\n",
       "    <tr>\n",
       "      <th>2</th>\n",
       "      <td>285</td>\n",
       "      <td>3589116400859770</td>\n",
       "      <td>2022-04-25 02:55:53</td>\n",
       "      <td>Christopher Taylor</td>\n",
       "      <td>153</td>\n",
       "      <td>3</td>\n",
       "      <td>1</td>\n",
       "    </tr>\n",
       "    <tr>\n",
       "      <th>3</th>\n",
       "      <td>956</td>\n",
       "      <td>3563824491582793</td>\n",
       "      <td>2022-04-06 08:40:44</td>\n",
       "      <td>Mr Christopher Morgan</td>\n",
       "      <td>577</td>\n",
       "      <td>3</td>\n",
       "      <td>1</td>\n",
       "    </tr>\n",
       "    <tr>\n",
       "      <th>4</th>\n",
       "      <td>447</td>\n",
       "      <td>3595331957509940</td>\n",
       "      <td>2022-04-07 12:42:25</td>\n",
       "      <td>Harry Bradshaw</td>\n",
       "      <td>872</td>\n",
       "      <td>1</td>\n",
       "      <td>2</td>\n",
       "    </tr>\n",
       "  </tbody>\n",
       "</table>\n",
       "</div>"
      ],
      "text/plain": [
       "  cust_id credit_card_number transaction_date_time                   name  \\\n",
       "0     524      4769528247162   2022-04-22 09:18:44       Felicia Jennings   \n",
       "1     561      4786614134088   2022-04-16 10:32:14         Michael Murray   \n",
       "2     285   3589116400859770   2022-04-25 02:55:53     Christopher Taylor   \n",
       "3     956   3563824491582793   2022-04-06 08:40:44  Mr Christopher Morgan   \n",
       "4     447   3595331957509940   2022-04-07 12:42:25         Harry Bradshaw   \n",
       "\n",
       "  transaction_amount  transaction_type  terminal_loc  \n",
       "0                459                 3             3  \n",
       "1                768                 1             3  \n",
       "2                153                 3             1  \n",
       "3                577                 3             1  \n",
       "4                872                 1             2  "
      ]
     },
     "execution_count": 6,
     "metadata": {},
     "output_type": "execute_result"
    }
   ],
   "source": [
    "df.head()"
   ]
  },
  {
   "cell_type": "markdown",
   "metadata": {},
   "source": [
    "Suppose a customer did transactions on \n",
    "1 = Food Street,\n",
    "2 = Gas/Feul,\n",
    "3 = Pharmacy."
   ]
  },
  {
   "cell_type": "code",
   "execution_count": 7,
   "metadata": {},
   "outputs": [
    {
     "data": {
      "text/plain": [
       "1    252\n",
       "3    226\n",
       "2    222\n",
       "Name: transaction_type, dtype: int64"
      ]
     },
     "execution_count": 7,
     "metadata": {},
     "output_type": "execute_result"
    }
   ],
   "source": [
    "df[\"transaction_type\"].value_counts()"
   ]
  },
  {
   "cell_type": "code",
   "execution_count": 8,
   "metadata": {},
   "outputs": [
    {
     "data": {
      "text/plain": [
       "737    4\n",
       "875    4\n",
       "914    4\n",
       "371    4\n",
       "296    3\n",
       "      ..\n",
       "992    1\n",
       "362    1\n",
       "256    1\n",
       "791    1\n",
       "138    1\n",
       "Name: transaction_amount, Length: 488, dtype: int64"
      ]
     },
     "execution_count": 8,
     "metadata": {},
     "output_type": "execute_result"
    }
   ],
   "source": [
    "#pd.set_option('display.max_rows', None)\n",
    "df[\"transaction_amount\"].value_counts()\n"
   ]
  },
  {
   "cell_type": "code",
   "execution_count": 9,
   "metadata": {},
   "outputs": [
    {
     "data": {
      "text/plain": [
       "transaction_date_time  transaction_type\n",
       "2022-04-01 00:08:30    1                   1\n",
       "2022-04-17 22:17:48    2                   1\n",
       "2022-04-17 18:16:34    2                   1\n",
       "2022-04-17 19:13:17    2                   1\n",
       "2022-04-17 19:43:35    2                   1\n",
       "                                          ..\n",
       "2022-04-09 12:26:24    2                   1\n",
       "2022-04-09 13:41:16    1                   1\n",
       "2022-04-09 14:20:31    3                   1\n",
       "2022-04-09 14:21:07    2                   1\n",
       "2022-04-25 11:05:02    3                   1\n",
       "Length: 700, dtype: int64"
      ]
     },
     "execution_count": 9,
     "metadata": {},
     "output_type": "execute_result"
    }
   ],
   "source": [
    "df[[\"transaction_date_time\", 'transaction_type']].value_counts()"
   ]
  },
  {
   "cell_type": "code",
   "execution_count": 10,
   "metadata": {
    "scrolled": true
   },
   "outputs": [
    {
     "data": {
      "text/plain": [
       "2    184\n",
       "1    182\n",
       "3    179\n",
       "4    155\n",
       "Name: terminal_loc, dtype: int64"
      ]
     },
     "execution_count": 10,
     "metadata": {},
     "output_type": "execute_result"
    }
   ],
   "source": [
    "df[\"terminal_loc\"].value_counts()"
   ]
  },
  {
   "cell_type": "code",
   "execution_count": null,
   "metadata": {
    "scrolled": false
   },
   "outputs": [],
   "source": []
  },
  {
   "cell_type": "code",
   "execution_count": 11,
   "metadata": {},
   "outputs": [
    {
     "data": {
      "image/png": "[encoded data removed]",
      "text/plain": [
       "<Figure size 1440x1080 with 4 Axes>"
      ]
     },
     "metadata": {
      "needs_background": "light"
     },
     "output_type": "display_data"
    }
   ],
   "source": [
    "%matplotlib inline\n",
    "import matplotlib.pyplot as plt\n",
    "df.hist(bins=50, figsize=(20,15))\n",
    "plt.show()"
   ]
  },
  {
   "cell_type": "code",
   "execution_count": 12,
   "metadata": {
    "scrolled": false
   },
   "outputs": [
    {
     "data": {
      "text/plain": [
       "<AxesSubplot:xlabel='transaction_type', ylabel='transaction_amount'>"
      ]
     },
     "execution_count": 12,
     "metadata": {},
     "output_type": "execute_result"
    },
    {
     "data": {
      "image/png": "[encoded data removed]",
      "text/plain": [
       "<Figure size 432x288 with 1 Axes>"
      ]
     },
     "metadata": {
      "needs_background": "light"
     },
     "output_type": "display_data"
    }
   ],
   "source": [
    "df.plot(kind=\"scatter\", x=\"transaction_type\", y=\"transaction_amount\", alpha=0.5)"
   ]
  },
  {
   "cell_type": "code",
   "execution_count": 13,
   "metadata": {
    "scrolled": true
   },
   "outputs": [
    {
     "data": {
      "text/html": [
       "<div>\n",
       "<style scoped>\n",
       "    .dataframe tbody tr th:only-of-type {\n",
       "        vertical-align: middle;\n",
       "    }\n",
       "\n",
       "    .dataframe tbody tr th {\n",
       "        vertical-align: top;\n",
       "    }\n",
       "\n",
       "    .dataframe thead th {\n",
       "        text-align: right;\n",
       "    }\n",
       "</style>\n",
       "<table border=\"1\" class=\"dataframe\">\n",
       "  <thead>\n",
       "    <tr style=\"text-align: right;\">\n",
       "      <th></th>\n",
       "      <th>cust_id</th>\n",
       "      <th>transaction_date_time</th>\n",
       "      <th>transaction_amount</th>\n",
       "      <th>transaction_type</th>\n",
       "      <th>terminal_loc</th>\n",
       "    </tr>\n",
       "  </thead>\n",
       "  <tbody>\n",
       "    <tr>\n",
       "      <th>0</th>\n",
       "      <td>524</td>\n",
       "      <td>2022-04-22 09:18:44</td>\n",
       "      <td>459</td>\n",
       "      <td>3</td>\n",
       "      <td>3</td>\n",
       "    </tr>\n",
       "    <tr>\n",
       "      <th>1</th>\n",
       "      <td>561</td>\n",
       "      <td>2022-04-16 10:32:14</td>\n",
       "      <td>768</td>\n",
       "      <td>1</td>\n",
       "      <td>3</td>\n",
       "    </tr>\n",
       "    <tr>\n",
       "      <th>2</th>\n",
       "      <td>285</td>\n",
       "      <td>2022-04-25 02:55:53</td>\n",
       "      <td>153</td>\n",
       "      <td>3</td>\n",
       "      <td>1</td>\n",
       "    </tr>\n",
       "    <tr>\n",
       "      <th>3</th>\n",
       "      <td>956</td>\n",
       "      <td>2022-04-06 08:40:44</td>\n",
       "      <td>577</td>\n",
       "      <td>3</td>\n",
       "      <td>1</td>\n",
       "    </tr>\n",
       "    <tr>\n",
       "      <th>4</th>\n",
       "      <td>447</td>\n",
       "      <td>2022-04-07 12:42:25</td>\n",
       "      <td>872</td>\n",
       "      <td>1</td>\n",
       "      <td>2</td>\n",
       "    </tr>\n",
       "    <tr>\n",
       "      <th>...</th>\n",
       "      <td>...</td>\n",
       "      <td>...</td>\n",
       "      <td>...</td>\n",
       "      <td>...</td>\n",
       "      <td>...</td>\n",
       "    </tr>\n",
       "    <tr>\n",
       "      <th>695</th>\n",
       "      <td>680</td>\n",
       "      <td>2022-04-13 23:34:49</td>\n",
       "      <td>165</td>\n",
       "      <td>2</td>\n",
       "      <td>1</td>\n",
       "    </tr>\n",
       "    <tr>\n",
       "      <th>696</th>\n",
       "      <td>5</td>\n",
       "      <td>2022-04-07 07:21:47</td>\n",
       "      <td>131</td>\n",
       "      <td>3</td>\n",
       "      <td>4</td>\n",
       "    </tr>\n",
       "    <tr>\n",
       "      <th>697</th>\n",
       "      <td>169</td>\n",
       "      <td>2022-04-07 04:05:12</td>\n",
       "      <td>140</td>\n",
       "      <td>1</td>\n",
       "      <td>3</td>\n",
       "    </tr>\n",
       "    <tr>\n",
       "      <th>698</th>\n",
       "      <td>151</td>\n",
       "      <td>2022-04-21 12:53:45</td>\n",
       "      <td>587</td>\n",
       "      <td>1</td>\n",
       "      <td>3</td>\n",
       "    </tr>\n",
       "    <tr>\n",
       "      <th>699</th>\n",
       "      <td>254</td>\n",
       "      <td>2022-04-21 21:28:44</td>\n",
       "      <td>138</td>\n",
       "      <td>2</td>\n",
       "      <td>4</td>\n",
       "    </tr>\n",
       "  </tbody>\n",
       "</table>\n",
       "<p>700 rows × 5 columns</p>\n",
       "</div>"
      ],
      "text/plain": [
       "    cust_id transaction_date_time transaction_amount  transaction_type  \\\n",
       "0       524   2022-04-22 09:18:44                459                 3   \n",
       "1       561   2022-04-16 10:32:14                768                 1   \n",
       "2       285   2022-04-25 02:55:53                153                 3   \n",
       "3       956   2022-04-06 08:40:44                577                 3   \n",
       "4       447   2022-04-07 12:42:25                872                 1   \n",
       "..      ...                   ...                ...               ...   \n",
       "695     680   2022-04-13 23:34:49                165                 2   \n",
       "696       5   2022-04-07 07:21:47                131                 3   \n",
       "697     169   2022-04-07 04:05:12                140                 1   \n",
       "698     151   2022-04-21 12:53:45                587                 1   \n",
       "699     254   2022-04-21 21:28:44                138                 2   \n",
       "\n",
       "     terminal_loc  \n",
       "0               3  \n",
       "1               3  \n",
       "2               1  \n",
       "3               1  \n",
       "4               2  \n",
       "..            ...  \n",
       "695             1  \n",
       "696             4  \n",
       "697             3  \n",
       "698             3  \n",
       "699             4  \n",
       "\n",
       "[700 rows x 5 columns]"
      ]
     },
     "execution_count": 13,
     "metadata": {},
     "output_type": "execute_result"
    }
   ],
   "source": [
    "df.drop(['credit_card_number', 'name'], axis='columns', inplace=True)\n",
    "df"
   ]
  },
  {
   "cell_type": "code",
   "execution_count": 14,
   "metadata": {
    "scrolled": true
   },
   "outputs": [
    {
     "data": {
      "text/plain": [
       "cust_id                          object\n",
       "transaction_date_time    datetime64[ns]\n",
       "transaction_amount               object\n",
       "transaction_type                  int64\n",
       "terminal_loc                      int64\n",
       "dtype: object"
      ]
     },
     "execution_count": 14,
     "metadata": {},
     "output_type": "execute_result"
    }
   ],
   "source": [
    "df.dtypes"
   ]
  },
  {
   "cell_type": "code",
   "execution_count": 15,
   "metadata": {},
   "outputs": [],
   "source": [
    "#df.astype({'transaction_date_time': 'object'}).dtypes"
   ]
  },
  {
   "cell_type": "code",
   "execution_count": 16,
   "metadata": {},
   "outputs": [
    {
     "data": {
      "text/html": [
       "<div>\n",
       "<style scoped>\n",
       "    .dataframe tbody tr th:only-of-type {\n",
       "        vertical-align: middle;\n",
       "    }\n",
       "\n",
       "    .dataframe tbody tr th {\n",
       "        vertical-align: top;\n",
       "    }\n",
       "\n",
       "    .dataframe thead th {\n",
       "        text-align: right;\n",
       "    }\n",
       "</style>\n",
       "<table border=\"1\" class=\"dataframe\">\n",
       "  <thead>\n",
       "    <tr style=\"text-align: right;\">\n",
       "      <th></th>\n",
       "      <th>cust_id</th>\n",
       "      <th>transaction_date_time</th>\n",
       "      <th>transaction_amount</th>\n",
       "      <th>transaction_type</th>\n",
       "      <th>terminal_loc</th>\n",
       "    </tr>\n",
       "  </thead>\n",
       "  <tbody>\n",
       "    <tr>\n",
       "      <th>0</th>\n",
       "      <td>524</td>\n",
       "      <td>2022-04-22 09:18:44</td>\n",
       "      <td>459</td>\n",
       "      <td>3</td>\n",
       "      <td>3</td>\n",
       "    </tr>\n",
       "    <tr>\n",
       "      <th>1</th>\n",
       "      <td>561</td>\n",
       "      <td>2022-04-16 10:32:14</td>\n",
       "      <td>768</td>\n",
       "      <td>1</td>\n",
       "      <td>3</td>\n",
       "    </tr>\n",
       "    <tr>\n",
       "      <th>2</th>\n",
       "      <td>285</td>\n",
       "      <td>2022-04-25 02:55:53</td>\n",
       "      <td>153</td>\n",
       "      <td>3</td>\n",
       "      <td>1</td>\n",
       "    </tr>\n",
       "    <tr>\n",
       "      <th>3</th>\n",
       "      <td>956</td>\n",
       "      <td>2022-04-06 08:40:44</td>\n",
       "      <td>577</td>\n",
       "      <td>3</td>\n",
       "      <td>1</td>\n",
       "    </tr>\n",
       "    <tr>\n",
       "      <th>4</th>\n",
       "      <td>447</td>\n",
       "      <td>2022-04-07 12:42:25</td>\n",
       "      <td>872</td>\n",
       "      <td>1</td>\n",
       "      <td>2</td>\n",
       "    </tr>\n",
       "    <tr>\n",
       "      <th>...</th>\n",
       "      <td>...</td>\n",
       "      <td>...</td>\n",
       "      <td>...</td>\n",
       "      <td>...</td>\n",
       "      <td>...</td>\n",
       "    </tr>\n",
       "    <tr>\n",
       "      <th>695</th>\n",
       "      <td>680</td>\n",
       "      <td>2022-04-13 23:34:49</td>\n",
       "      <td>165</td>\n",
       "      <td>2</td>\n",
       "      <td>1</td>\n",
       "    </tr>\n",
       "    <tr>\n",
       "      <th>696</th>\n",
       "      <td>5</td>\n",
       "      <td>2022-04-07 07:21:47</td>\n",
       "      <td>131</td>\n",
       "      <td>3</td>\n",
       "      <td>4</td>\n",
       "    </tr>\n",
       "    <tr>\n",
       "      <th>697</th>\n",
       "      <td>169</td>\n",
       "      <td>2022-04-07 04:05:12</td>\n",
       "      <td>140</td>\n",
       "      <td>1</td>\n",
       "      <td>3</td>\n",
       "    </tr>\n",
       "    <tr>\n",
       "      <th>698</th>\n",
       "      <td>151</td>\n",
       "      <td>2022-04-21 12:53:45</td>\n",
       "      <td>587</td>\n",
       "      <td>1</td>\n",
       "      <td>3</td>\n",
       "    </tr>\n",
       "    <tr>\n",
       "      <th>699</th>\n",
       "      <td>254</td>\n",
       "      <td>2022-04-21 21:28:44</td>\n",
       "      <td>138</td>\n",
       "      <td>2</td>\n",
       "      <td>4</td>\n",
       "    </tr>\n",
       "  </tbody>\n",
       "</table>\n",
       "<p>700 rows × 5 columns</p>\n",
       "</div>"
      ],
      "text/plain": [
       "    cust_id transaction_date_time transaction_amount  transaction_type  \\\n",
       "0       524   2022-04-22 09:18:44                459                 3   \n",
       "1       561   2022-04-16 10:32:14                768                 1   \n",
       "2       285   2022-04-25 02:55:53                153                 3   \n",
       "3       956   2022-04-06 08:40:44                577                 3   \n",
       "4       447   2022-04-07 12:42:25                872                 1   \n",
       "..      ...                   ...                ...               ...   \n",
       "695     680   2022-04-13 23:34:49                165                 2   \n",
       "696       5   2022-04-07 07:21:47                131                 3   \n",
       "697     169   2022-04-07 04:05:12                140                 1   \n",
       "698     151   2022-04-21 12:53:45                587                 1   \n",
       "699     254   2022-04-21 21:28:44                138                 2   \n",
       "\n",
       "     terminal_loc  \n",
       "0               3  \n",
       "1               3  \n",
       "2               1  \n",
       "3               1  \n",
       "4               2  \n",
       "..            ...  \n",
       "695             1  \n",
       "696             4  \n",
       "697             3  \n",
       "698             3  \n",
       "699             4  \n",
       "\n",
       "[700 rows x 5 columns]"
      ]
     },
     "execution_count": 16,
     "metadata": {},
     "output_type": "execute_result"
    }
   ],
   "source": [
    "df"
   ]
  },
  {
   "cell_type": "code",
   "execution_count": 17,
   "metadata": {},
   "outputs": [],
   "source": [
    "from sklearn.ensemble import RandomForestRegressor\n",
    "\n",
    "from sklearn import preprocessing\n",
    "from sklearn.model_selection import train_test_split\n",
    "from sklearn.naive_bayes import GaussianNB\n",
    "from sklearn.preprocessing import StandardScaler  \n",
    "from sklearn.metrics import accuracy_score, recall_score, f1_score, precision_score\n",
    "from sklearn.metrics import mean_squared_error, r2_score\n",
    "from sklearn.pipeline import make_pipeline\n",
    "from sklearn.model_selection import GridSearchCV"
   ]
  },
  {
   "cell_type": "markdown",
   "metadata": {},
   "source": [
    "### Split data into training and test sets"
   ]
  },
  {
   "cell_type": "code",
   "execution_count": 18,
   "metadata": {},
   "outputs": [],
   "source": [
    "X = df[['transaction_type', 'transaction_amount', 'cust_id']]"
   ]
  },
  {
   "cell_type": "code",
   "execution_count": 19,
   "metadata": {},
   "outputs": [],
   "source": [
    "y = df[['terminal_loc']]\n",
    "\n"
   ]
  },
  {
   "cell_type": "code",
   "execution_count": 20,
   "metadata": {},
   "outputs": [],
   "source": [
    "X_train, X_test, y_train, y_test = train_test_split(X, y,test_size=0.2,\n",
    "                                                    random_state=42, stratify=y)"
   ]
  },
  {
   "cell_type": "code",
   "execution_count": 21,
   "metadata": {},
   "outputs": [],
   "source": [
    "sc = StandardScaler()  \n",
    "X_train = sc.fit_transform(X_train)  \n",
    "X_test = sc.transform(X_test)  "
   ]
  },
  {
   "cell_type": "code",
   "execution_count": 22,
   "metadata": {},
   "outputs": [
    {
     "data": {
      "text/plain": [
       "GaussianNB()"
      ]
     },
     "execution_count": 22,
     "metadata": {},
     "output_type": "execute_result"
    }
   ],
   "source": [
    "# Fitting Naive Bayes to the Training set  \n",
    "from sklearn.naive_bayes import GaussianNB  \n",
    "classifier = GaussianNB()  \n",
    "classifier.fit(X_train, y_train)  "
   ]
  },
  {
   "cell_type": "code",
   "execution_count": 23,
   "metadata": {},
   "outputs": [],
   "source": [
    "# Predicting the Test set results  \n",
    "y_pred = classifier.predict(X_test)  "
   ]
  },
  {
   "cell_type": "code",
   "execution_count": 24,
   "metadata": {},
   "outputs": [
    {
     "data": {
      "text/plain": [
       "array([[ 3, 19,  8,  6],\n",
       "       [ 7, 15, 10,  5],\n",
       "       [ 5, 14, 12,  5],\n",
       "       [ 5, 12, 10,  4]])"
      ]
     },
     "execution_count": 24,
     "metadata": {},
     "output_type": "execute_result"
    }
   ],
   "source": [
    "# Making the Confusion Matrix  \n",
    "from sklearn.metrics import confusion_matrix  \n",
    "cm = confusion_matrix(y_test, y_pred)  \n",
    "cm"
   ]
  },
  {
   "cell_type": "code",
   "execution_count": 25,
   "metadata": {},
   "outputs": [],
   "source": [
    "accu_nb = accuracy_score(y_test, y_pred)*100"
   ]
  },
  {
   "cell_type": "code",
   "execution_count": 26,
   "metadata": {},
   "outputs": [],
   "source": [
    "rec_nb = recall_score(y_test, y_pred, average='micro')*100"
   ]
  },
  {
   "cell_type": "code",
   "execution_count": 27,
   "metadata": {},
   "outputs": [],
   "source": [
    "pre_nb = precision_score(y_test, y_pred, average='micro')*100"
   ]
  },
  {
   "cell_type": "code",
   "execution_count": 28,
   "metadata": {},
   "outputs": [],
   "source": [
    "f1_nb = f1_score(y_test, y_pred, average='micro')*100"
   ]
  },
  {
   "cell_type": "code",
   "execution_count": 29,
   "metadata": {},
   "outputs": [],
   "source": [
    "from sklearn.ensemble import RandomForestClassifier\n",
    "\n",
    "rfc = RandomForestClassifier()\n",
    "rfc.fit(X_train, y_train)\n",
    "y_pred = rfc.predict(X_test)\n",
    "accu_rfc = accuracy_score(y_test, y_pred)*100\n",
    "pre_rfc = precision_score(y_test, y_pred, average='micro')*100\n",
    "rec_rfc = recall_score(y_test, y_pred, average='micro')*100\n",
    "f1_rfc = f1_score(y_test, y_pred, average='micro')*100"
   ]
  },
  {
   "cell_type": "code",
   "execution_count": 30,
   "metadata": {},
   "outputs": [],
   "source": [
    "from sklearn.neighbors import KNeighborsClassifier\n",
    "\n",
    "knn = KNeighborsClassifier()\n",
    "knn.fit(X_train, y_train)\n",
    "y_pred = rfc.predict(X_test)\n",
    "accu_knn = accuracy_score(y_test, y_pred)*100\n",
    "rec_knn = recall_score(y_test, y_pred, average='micro')*100\n",
    "pre_knn = precision_score(y_test, y_pred, average='micro')*100\n",
    "f1_knn = f1_score(y_test, y_pred, average='micro')*100"
   ]
  },
  {
   "cell_type": "code",
   "execution_count": 31,
   "metadata": {},
   "outputs": [],
   "source": [
    "from sklearn.tree import DecisionTreeClassifier\n",
    "\n",
    "dtc = DecisionTreeClassifier()\n",
    "dtc.fit(X_train, y_train)\n",
    "y_pred = dtc.predict(X_test)\n",
    "accu_dtc = accuracy_score(y_test, y_pred)*100\n",
    "rec_dtc = recall_score(y_test, y_pred, average='micro')*100\n",
    "pre_dtc = precision_score(y_test, y_pred, average='micro')*100\n",
    "f1_dtc = f1_score(y_test, y_pred, average='micro')*100"
   ]
  },
  {
   "cell_type": "code",
   "execution_count": 32,
   "metadata": {},
   "outputs": [],
   "source": [
    "from sklearn.linear_model import LogisticRegression\n",
    "\n",
    "lgr = LogisticRegression()\n",
    "lgr.fit(X_train, y_train)\n",
    "y_pred = lgr.predict(X_test)\n",
    "accu_lgr = accuracy_score(y_test, y_pred)*100\n",
    "rec_lgr = recall_score(y_test, y_pred, average='micro')*100\n",
    "pre_lgr = precision_score(y_test, y_pred, average='micro')*100\n",
    "f1_lgr = f1_score(y_test, y_pred, average='micro')*100"
   ]
  },
  {
   "cell_type": "code",
   "execution_count": 33,
   "metadata": {},
   "outputs": [
    {
     "data": {
      "text/plain": [
       "'Algorithm Performance'"
      ]
     },
     "metadata": {},
     "output_type": "display_data"
    },
    {
     "data": {
      "text/html": [
       "<div>\n",
       "<style scoped>\n",
       "    .dataframe tbody tr th:only-of-type {\n",
       "        vertical-align: middle;\n",
       "    }\n",
       "\n",
       "    .dataframe tbody tr th {\n",
       "        vertical-align: top;\n",
       "    }\n",
       "\n",
       "    .dataframe thead th {\n",
       "        text-align: right;\n",
       "    }\n",
       "</style>\n",
       "<table border=\"1\" class=\"dataframe\">\n",
       "  <thead>\n",
       "    <tr style=\"text-align: right;\">\n",
       "      <th>classifier</th>\n",
       "      <th>GNB</th>\n",
       "      <th>RFC</th>\n",
       "      <th>KNN</th>\n",
       "      <th>DTC</th>\n",
       "      <th>LogR</th>\n",
       "      <th>high score</th>\n",
       "    </tr>\n",
       "  </thead>\n",
       "  <tbody>\n",
       "    <tr>\n",
       "      <th>accuracy</th>\n",
       "      <td>24.285714</td>\n",
       "      <td>18.571429</td>\n",
       "      <td>18.571429</td>\n",
       "      <td>29.285714</td>\n",
       "      <td>25.0</td>\n",
       "      <td>DTC</td>\n",
       "    </tr>\n",
       "    <tr>\n",
       "      <th>recall</th>\n",
       "      <td>24.285714</td>\n",
       "      <td>18.571429</td>\n",
       "      <td>18.571429</td>\n",
       "      <td>29.285714</td>\n",
       "      <td>25.0</td>\n",
       "      <td>DTC</td>\n",
       "    </tr>\n",
       "    <tr>\n",
       "      <th>precision</th>\n",
       "      <td>24.285714</td>\n",
       "      <td>18.571429</td>\n",
       "      <td>18.571429</td>\n",
       "      <td>29.285714</td>\n",
       "      <td>25.0</td>\n",
       "      <td>DTC</td>\n",
       "    </tr>\n",
       "    <tr>\n",
       "      <th>f1_score</th>\n",
       "      <td>24.285714</td>\n",
       "      <td>18.571429</td>\n",
       "      <td>18.571429</td>\n",
       "      <td>29.285714</td>\n",
       "      <td>25.0</td>\n",
       "      <td>DTC</td>\n",
       "    </tr>\n",
       "  </tbody>\n",
       "</table>\n",
       "</div>"
      ],
      "text/plain": [
       "classifier        GNB        RFC        KNN        DTC  LogR high score\n",
       "accuracy    24.285714  18.571429  18.571429  29.285714  25.0        DTC\n",
       "recall      24.285714  18.571429  18.571429  29.285714  25.0        DTC\n",
       "precision   24.285714  18.571429  18.571429  29.285714  25.0        DTC\n",
       "f1_score    24.285714  18.571429  18.571429  29.285714  25.0        DTC"
      ]
     },
     "metadata": {},
     "output_type": "display_data"
    }
   ],
   "source": [
    "### dataframe with evaluation metrics accuracy, f1-score, recall, precision\n",
    "clf = [\"GNB\", \"RFC\", \"KNN\", \"DTC\", \"LogR\"]\n",
    "acc = [accu_nb, accu_rfc, accu_knn, accu_dtc, accu_lgr]\n",
    "rec = [rec_nb, rec_rfc, rec_knn, rec_dtc, rec_lgr]\n",
    "pre = [pre_nb, pre_rfc, pre_knn, pre_dtc, pre_lgr]\n",
    "f1 = [f1_nb, f1_rfc, f1_knn, f1_dtc, f1_lgr]\n",
    "\n",
    "score = pd.DataFrame({\n",
    "    \"classifier\": clf,\n",
    "    \"accuracy\": acc,\n",
    "    \"recall\": rec,\n",
    "    \"precision\": pre,\n",
    "    \"f1_score\": f1,\n",
    "    \n",
    "})\n",
    "score.set_index(\"classifier\", inplace = True)\n",
    "score = score.transpose()\n",
    "score[\"high score\"] = score[[\"GNB\", \"RFC\", \"KNN\", \"DTC\", \"LogR\"]].idxmax(axis=1)\n",
    "display(\"Algorithm Performance\", score)"
   ]
  },
  {
   "cell_type": "code",
   "execution_count": null,
   "metadata": {},
   "outputs": [],
   "source": []
  }
 ],
 "metadata": {
  "kernelspec": {
   "display_name": "Python 3 (ipykernel)",
   "language": "python",
   "name": "python3"
  },
  "language_info": {
   "codemirror_mode": {
    "name": "ipython",
    "version": 3
   },
   "file_extension": ".py",
   "mimetype": "text/x-python",
   "name": "python",
   "nbconvert_exporter": "python",
   "pygments_lexer": "ipython3",
   "version": "3.8.12"
  }
 },
 "nbformat": 4,
 "nbformat_minor": 4
}
